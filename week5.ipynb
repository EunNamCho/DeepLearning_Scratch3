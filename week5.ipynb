{
 "cells": [
  {
   "cell_type": "markdown",
   "metadata": {},
   "source": [
    "# 지난 시간 복습\n",
    "1. 가변 길이 인수(step11의 개선 편)\n",
    "2. 가변 길이 인수(역전파)\n",
    "3. 같은 변수 반복 사용"
   ]
  },
  {
   "cell_type": "code",
   "execution_count": 13,
   "metadata": {},
   "outputs": [],
   "source": [
    "import numpy as np\n",
    "\n"
   ]
  },
  {
   "cell_type": "code",
   "execution_count": 12,
   "metadata": {},
   "outputs": [
    {
     "name": "stdout",
     "output_type": "stream",
     "text": [
      "[1]\n",
      "[1]\n"
     ]
    }
   ],
   "source": [
    "outer()\n",
    "outer()"
   ]
  },
  {
   "cell_type": "markdown",
   "metadata": {},
   "source": [
    "# 이번주에는 총 4가지를 배운다\n",
    "1. 복잡한 계산 그래프(이론)\n",
    "2. 복잡한 계산 그래프(구현)\n",
    "3. 메모리 관리와 순환 참조\n",
    "4. 메모리 절약 모드\n",
    "\n",
    "1,2 는 **_유향그래프의 위상 정렬_** 에 관한 내용  \n",
    "3,4 는 파이썬 언어의 **_GC_** 에 관해서, 그리고 **_메모리 개선_** 을 구현  "
   ]
  },
  {
   "cell_type": "markdown",
   "metadata": {},
   "source": [
    "# Not Clone Coding"
   ]
  },
  {
   "cell_type": "code",
   "execution_count": 14,
   "metadata": {},
   "outputs": [],
   "source": [
    "import weakref\n",
    "\n",
    "def as_array(x):\n",
    "    if not isinstance(x, np.ndarray):\n",
    "        return np.array(x)\n",
    "\n",
    "class Variable:\n",
    "    def __init__(self, data):\n",
    "        self.data = data\n",
    "        self.creator = None\n",
    "        self.grad = None\n",
    "        self.generation = None\n",
    "\n",
    "    def set_creator(self, func):\n",
    "        self.creator = func\n",
    "        self.generation = self.creator.generation + 1\n",
    "\n",
    "    def backward(self):\n",
    "        if self.grad is None:\n",
    "            self.grad = np.ones_like(self.data) #### ambiguous\n",
    "\n",
    "        seen_func = {self.creator}\n",
    "        funcs = [self.creator]                  #### 힙으로 바꾸면 좋음\n",
    "\n",
    "        while funcs:\n",
    "            func = funcs.pop()\n",
    "            inputs = func.inputs\n",
    "\n",
    "            gys = [output.grad for output in func.outputs]\n",
    "            gxs = func.backward(*gys)\n",
    "            if isinstance(gxs, tuple):\n",
    "                gxs = (gxs, )\n",
    "\n",
    "            for input, gx in zip(inputs, gxs):\n",
    "                input.grad = gx\n",
    "                if input.creator not in seen_func:\n",
    "                    funcs.append(input.creator)\n",
    "                    seen_func.add(input.creator)\n",
    "            funcs.sort(key=lambda x: -x.generation)\n",
    "\n",
    "class Function:\n",
    "    def __call__(self, inputs):\n",
    "        if self.retain_grad == True:\n",
    "            self.inputs = inputs\n",
    "        inputs = [input.data for input in self.inputs]\n",
    "        outputs = [as_array(output) for output in self.forward(*inputs)]\n",
    "        outputs = list(map(Variable, outputs))\n",
    "        self.outputs = outputs\n",
    "\n",
    "        self.generation = max([input.generation for input in self.inputs])\n",
    "\n",
    "    def forward(self):\n",
    "        return NotImplementedError()\n",
    "    \n",
    "    def backward(self):\n",
    "        return NotImplementedError()\n",
    "\n",
    "class Add(Function):\n",
    "    def forward(self, x0, x1):\n",
    "        return x0 + x1\n",
    "    \n",
    "    def backward(self, gy):\n",
    "        return gy, gy"
   ]
  },
  {
   "cell_type": "markdown",
   "metadata": {},
   "source": [
    "# 1. 복잡한 계산(이론)\n",
    "\n"
   ]
  },
  {
   "cell_type": "code",
   "execution_count": null,
   "metadata": {},
   "outputs": [],
   "source": []
  }
 ],
 "metadata": {
  "kernelspec": {
   "display_name": "deeplearning",
   "language": "python",
   "name": "python3"
  },
  "language_info": {
   "codemirror_mode": {
    "name": "ipython",
    "version": 3
   },
   "file_extension": ".py",
   "mimetype": "text/x-python",
   "name": "python",
   "nbconvert_exporter": "python",
   "pygments_lexer": "ipython3",
   "version": "3.12.2"
  }
 },
 "nbformat": 4,
 "nbformat_minor": 2
}
