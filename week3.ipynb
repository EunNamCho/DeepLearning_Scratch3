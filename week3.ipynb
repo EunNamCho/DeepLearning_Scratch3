{
 "cells": [
  {
   "cell_type": "markdown",
   "metadata": {},
   "source": [
    "# 지난 시간 복습\n",
    "\n",
    "1. Backpropagation-Theory\n",
    "2. Manual Backpropagation\n",
    "3. Automatic Backpropagation  \n",
    "--- \n",
    "현재 함수의 미분값을 $cur.gy$, 현재 함수의 도함수, 현재 함수의 입력, 이전 함수의 미분값을 각각 $cur', cur.input, prev.gy$라고 한다.  \n",
    "$cur.gy = prev.gy * cur'(cur.input)$\n",
    "\n",
    "$x \\rightarrow A(x) \\rightarrow B(a) \\rightarrow C(b) \\rightarrow y$ (Forward)  \n",
    "\n",
    "$dx \\leftarrow A'(x) \\leftarrow B'(a) \\leftarrow C'(b) \\leftarrow dy$ (Backward)\n"
   ]
  },
  {
   "cell_type": "code",
   "execution_count": 52,
   "metadata": {},
   "outputs": [],
   "source": [
    "import numpy as np\n",
    "\n",
    "class Variable:\n",
    "    def __init__(self, data):\n",
    "        self.data = data\n",
    "        self.creator = None\n",
    "        self.dx = None\n",
    "\n",
    "    def backward(self):\n",
    "        func = self.creator\n",
    "        if func is not None:\n",
    "            x = func.input\n",
    "            dx = func.backward(x.data)\n",
    "            prev_dx = self.dx\n",
    "            x.dx = dx * prev_dx\n",
    "            x.backward()\n",
    "        return self.dx\n",
    "    \n",
    "    def set_creator(self, func):\n",
    "        self.creator = func\n",
    "\n",
    "class Function:\n",
    "    def __call__(self, var):\n",
    "        x = var.data\n",
    "        y = self.forward(x)\n",
    "        y = Variable(y)\n",
    "\n",
    "        y.set_creator(self)\n",
    "        self.input = var\n",
    "        self.output = y\n",
    "\n",
    "        return y\n",
    "    \n",
    "    def forward(self):\n",
    "        return NotImplementedError()\n",
    "    \n",
    "    def backward(self):\n",
    "        return NotImplementedError()\n",
    "    \n",
    "class Exp(Function):\n",
    "    def forward(self, x):\n",
    "        return np.exp(x)\n",
    "    \n",
    "    def backward(self, x):\n",
    "        return np.exp(x)\n",
    "    \n",
    "class Square(Function):\n",
    "    def forward(self, x):\n",
    "        return x ** 2\n",
    "    \n",
    "    def backward(self, x):\n",
    "        return 2 * x"
   ]
  },
  {
   "cell_type": "code",
   "execution_count": 53,
   "metadata": {},
   "outputs": [
    {
     "name": "stdout",
     "output_type": "stream",
     "text": [
      "3.297442541400256\n"
     ]
    }
   ],
   "source": [
    "A = Square()\n",
    "B = Exp()\n",
    "C = Square()\n",
    "\n",
    "x = Variable(np.array(0.5))\n",
    "a = A(x)\n",
    "b = B(a)\n",
    "y = C(b)\n",
    "\n",
    "y.dx = np.array(1.0)\n",
    "y.backward()\n",
    "print(x.dx)"
   ]
  },
  {
   "cell_type": "markdown",
   "metadata": {},
   "source": [
    "# 이번주에는 총 4가지를 배운다\n",
    "1. Backward 연산을 재귀 => 반복\n",
    "2. Function subclass의 사용을 편리하게\n",
    "3. Code 작동 Test 기법: UnitTest module\n",
    "4. 입력 크기 확장"
   ]
  },
  {
   "cell_type": "markdown",
   "metadata": {},
   "source": [
    "# Not Clone coding"
   ]
  },
  {
   "cell_type": "code",
   "execution_count": 58,
   "metadata": {},
   "outputs": [],
   "source": [
    "import numpy as np\n",
    "\n",
    "class Variable:\n",
    "    def __init__(self, data):\n",
    "        if isinstance(data, np.ndarray) or isinstance(data, np.float_) or isinstance(data, np.int_):\n",
    "            self.data = data\n",
    "        else:\n",
    "            raise Exception(\"지원하지 않는 데이터 형식입니다.\")\n",
    "        self.creator = None\n",
    "        self.dx = None\n",
    "\n",
    "    def backward(self):\n",
    "        funcs = []\n",
    "        funcs.append(self.creator)\n",
    "        while funcs:\n",
    "            func = funcs.pop()\n",
    "            x = func.input\n",
    "            dx = func.backward(x.data)\n",
    "            if self.dx is None:\n",
    "                self.dx = np.array(1.0)\n",
    "            prev_dx = func.output.dx\n",
    "            x.dx = dx * prev_dx\n",
    "            if x.creator is not None:\n",
    "                funcs.append(x.creator)\n",
    "        return self.dx\n",
    "    \n",
    "    def set_creator(self, func):\n",
    "        self.creator = func\n",
    "\n",
    "class Function:\n",
    "    def __call__(self, var):\n",
    "        x = var.data\n",
    "        y = self.forward(x)\n",
    "        y = Variable(y)\n",
    "\n",
    "        y.set_creator(self)\n",
    "        self.input = var\n",
    "        self.output = y\n",
    "\n",
    "        return y\n",
    "    \n",
    "    def forward(self):\n",
    "        return NotImplementedError()\n",
    "    \n",
    "    def backward(self):\n",
    "        return NotImplementedError()\n",
    "    \n",
    "class Exp(Function):\n",
    "    def forward(self, x):\n",
    "        return np.exp(x)\n",
    "    \n",
    "    def backward(self, x):\n",
    "        return np.exp(x)\n",
    "    \n",
    "class Square(Function):\n",
    "    def forward(self, x):\n",
    "        return x ** 2\n",
    "    \n",
    "    def backward(self, x):\n",
    "        return 2 * x\n",
    "    \n",
    "def exp(x=None):\n",
    "    if x is not None:\n",
    "        return Exp()(x)\n",
    "    else:\n",
    "        return Exp()\n",
    "\n",
    "def square(x=None):\n",
    "    if x is not None:\n",
    "        return Square()(x)\n",
    "    else:\n",
    "        return Square()"
   ]
  },
  {
   "cell_type": "code",
   "execution_count": 43,
   "metadata": {},
   "outputs": [
    {
     "name": "stdout",
     "output_type": "stream",
     "text": [
      "<class 'numpy.ndarray'> 0\n",
      "<class 'numpy.ndarray'> 1\n",
      "<class 'numpy.ndarray'> 1\n",
      "<class 'numpy.ndarray'> 1\n",
      "<class 'numpy.ndarray'> 1\n",
      "<class 'numpy.float64'> 0\n",
      "2.0\n",
      "[2.]\n",
      "1.0\n",
      "[4.]\n",
      "1\n"
     ]
    }
   ],
   "source": [
    "a = np.array(1.0)\n",
    "b = np.array([1.0])\n",
    "c = np.array([2.0])\n",
    "d = b * c\n",
    "e = a * b\n",
    "f = np.array(2.0)\n",
    "\n",
    "\n",
    "print(type(a), a.ndim)\n",
    "print(type(b), b.ndim)\n",
    "print(type(c), c.ndim)\n",
    "print(type(d), d.ndim)\n",
    "print(type(e), e.ndim)\n",
    "print(type(a*f), (a*f).ndim)\n",
    "print(a*f)\n",
    "print(d)\n",
    "print(a)\n",
    "print((a*f)*c)\n",
    "if isinstance((a*f), np.float_):\n",
    "    print(1)"
   ]
  },
  {
   "cell_type": "code",
   "execution_count": 59,
   "metadata": {},
   "outputs": [
    {
     "data": {
      "text/plain": [
       "3.297442541400256"
      ]
     },
     "execution_count": 59,
     "metadata": {},
     "output_type": "execute_result"
    }
   ],
   "source": [
    "x = Variable(np.array(0.5))\n",
    "\n",
    "y = square(exp(square(x)))\n",
    "y.backward()\n",
    "x.dx"
   ]
  },
  {
   "cell_type": "code",
   "execution_count": null,
   "metadata": {},
   "outputs": [],
   "source": []
  }
 ],
 "metadata": {
  "kernelspec": {
   "display_name": "deeplearning",
   "language": "python",
   "name": "python3"
  },
  "language_info": {
   "codemirror_mode": {
    "name": "ipython",
    "version": 3
   },
   "file_extension": ".py",
   "mimetype": "text/x-python",
   "name": "python",
   "nbconvert_exporter": "python",
   "pygments_lexer": "ipython3",
   "version": "3.12.2"
  }
 },
 "nbformat": 4,
 "nbformat_minor": 2
}
