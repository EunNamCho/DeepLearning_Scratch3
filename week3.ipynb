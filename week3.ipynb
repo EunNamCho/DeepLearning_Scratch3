{
 "cells": [
  {
   "cell_type": "markdown",
   "metadata": {},
   "source": [
    "# 지난 시간 복습\n",
    "\n",
    "1. Backpropagation-Theory\n",
    "2. Manual Backpropagation\n",
    "3. Automatic Backpropagation  \n",
    "--- \n",
    "현재 함수의 미분값을 $cur.gy$, 현재 함수의 도함수, 현재 함수의 입력, 이전 함수의 미분값을 각각 $cur', cur.input, prev.gy$라고 한다.  \n",
    "$cur.gy = prev.gy * cur'(cur.input)$\n",
    "\n",
    "$x \\rightarrow A(x) \\rightarrow B(a) \\rightarrow C(b) \\rightarrow y$ (Forward)  \n",
    "\n",
    "$dx \\leftarrow A'(x) \\leftarrow B'(a) \\leftarrow C'(b) \\leftarrow dy$ (Backward)\n"
   ]
  },
  {
   "cell_type": "code",
   "execution_count": 52,
   "metadata": {},
   "outputs": [],
   "source": [
    "import numpy as np\n",
    "\n",
    "class Variable:\n",
    "    def __init__(self, data):\n",
    "        self.data = data\n",
    "        self.creator = None\n",
    "        self.dx = None\n",
    "\n",
    "    def backward(self):\n",
    "        func = self.creator\n",
    "        if func is not None:\n",
    "            x = func.input\n",
    "            dx = func.backward(x.data)\n",
    "            prev_dx = self.dx\n",
    "            x.dx = dx * prev_dx\n",
    "            x.backward()\n",
    "        return self.dx\n",
    "    \n",
    "    def set_creator(self, func):\n",
    "        self.creator = func\n",
    "\n",
    "class Function:\n",
    "    def __call__(self, var):\n",
    "        x = var.data\n",
    "        y = self.forward(x)\n",
    "        y = Variable(y)\n",
    "\n",
    "        y.set_creator(self)\n",
    "        self.input = var\n",
    "        self.output = y\n",
    "\n",
    "        return y\n",
    "    \n",
    "    def forward(self):\n",
    "        return NotImplementedError()\n",
    "    \n",
    "    def backward(self):\n",
    "        return NotImplementedError()\n",
    "    \n",
    "class Exp(Function):\n",
    "    def forward(self, x):\n",
    "        return np.exp(x)\n",
    "    \n",
    "    def backward(self, x):\n",
    "        return np.exp(x)\n",
    "    \n",
    "class Square(Function):\n",
    "    def forward(self, x):\n",
    "        return x ** 2\n",
    "    \n",
    "    def backward(self, x):\n",
    "        return 2 * x"
   ]
  },
  {
   "cell_type": "code",
   "execution_count": 53,
   "metadata": {},
   "outputs": [
    {
     "name": "stdout",
     "output_type": "stream",
     "text": [
      "3.297442541400256\n"
     ]
    }
   ],
   "source": [
    "A = Square()\n",
    "B = Exp()\n",
    "C = Square()\n",
    "\n",
    "x = Variable(np.array(0.5))\n",
    "a = A(x)\n",
    "b = B(a)\n",
    "y = C(b)\n",
    "\n",
    "y.dx = np.array(1.0)\n",
    "y.backward()\n",
    "print(x.dx)"
   ]
  },
  {
   "cell_type": "markdown",
   "metadata": {},
   "source": [
    "# 이번주에는 총 4가지를 배운다\n",
    "1. Backward 연산을 재귀 => 반복\n",
    "2. Function subclass의 사용을 편리하게\n",
    "3. Code 작동 Test 기법: UnitTest module\n",
    "4. 입력 크기 확장"
   ]
  },
  {
   "cell_type": "markdown",
   "metadata": {},
   "source": [
    "# Not Clone coding"
   ]
  },
  {
   "cell_type": "code",
   "execution_count": 58,
   "metadata": {},
   "outputs": [],
   "source": [
    "import numpy as np\n",
    "\n",
    "class Variable:\n",
    "    def __init__(self, data):\n",
    "        if isinstance(data, np.ndarray) or isinstance(data, np.float_) or isinstance(data, np.int_):\n",
    "            self.data = data\n",
    "        else:\n",
    "            raise Exception(\"지원하지 않는 데이터 형식입니다.\")\n",
    "        self.creator = None\n",
    "        self.dx = None\n",
    "\n",
    "    def backward(self):\n",
    "        funcs = []\n",
    "        funcs.append(self.creator)\n",
    "        while funcs:\n",
    "            func = funcs.pop()\n",
    "            x = func.input\n",
    "            dx = func.backward(x.data)\n",
    "            if self.dx is None:\n",
    "                self.dx = np.array(1.0)\n",
    "            prev_dx = func.output.dx\n",
    "            x.dx = dx * prev_dx\n",
    "            if x.creator is not None:\n",
    "                funcs.append(x.creator)\n",
    "        return self.dx\n",
    "    \n",
    "    def set_creator(self, func):\n",
    "        self.creator = func\n",
    "\n",
    "class Function:\n",
    "    def __call__(self, var):\n",
    "        x = var.data\n",
    "        y = self.forward(x)\n",
    "        y = Variable(y)\n",
    "\n",
    "        y.set_creator(self)\n",
    "        self.input = var\n",
    "        self.output = y\n",
    "\n",
    "        return y\n",
    "    \n",
    "    def forward(self):\n",
    "        return NotImplementedError()\n",
    "    \n",
    "    def backward(self):\n",
    "        return NotImplementedError()\n",
    "    \n",
    "class Exp(Function):\n",
    "    def forward(self, x):\n",
    "        return np.exp(x)\n",
    "    \n",
    "    def backward(self, x):\n",
    "        return np.exp(x)\n",
    "    \n",
    "class Square(Function):\n",
    "    def forward(self, x):\n",
    "        return x ** 2\n",
    "    \n",
    "    def backward(self, x):\n",
    "        return 2 * x\n",
    "    \n",
    "def exp(x=None):\n",
    "    if x is not None:\n",
    "        return Exp()(x)\n",
    "    else:\n",
    "        return Exp()\n",
    "\n",
    "def square(x=None):\n",
    "    if x is not None:\n",
    "        return Square()(x)\n",
    "    else:\n",
    "        return Square()"
   ]
  },
  {
   "cell_type": "code",
   "execution_count": 43,
   "metadata": {},
   "outputs": [
    {
     "name": "stdout",
     "output_type": "stream",
     "text": [
      "<class 'numpy.ndarray'> 0\n",
      "<class 'numpy.ndarray'> 1\n",
      "<class 'numpy.ndarray'> 1\n",
      "<class 'numpy.ndarray'> 1\n",
      "<class 'numpy.ndarray'> 1\n",
      "<class 'numpy.float64'> 0\n",
      "2.0\n",
      "[2.]\n",
      "1.0\n",
      "[4.]\n",
      "1\n"
     ]
    }
   ],
   "source": [
    "a = np.array(1.0)\n",
    "b = np.array([1.0])\n",
    "c = np.array([2.0])\n",
    "d = b * c\n",
    "e = a * b\n",
    "f = np.array(2.0)\n",
    "\n",
    "\n",
    "print(type(a), a.ndim)\n",
    "print(type(b), b.ndim)\n",
    "print(type(c), c.ndim)\n",
    "print(type(d), d.ndim)\n",
    "print(type(e), e.ndim)\n",
    "print(type(a*f), (a*f).ndim)\n",
    "print(a*f)\n",
    "print(d)\n",
    "print(a)\n",
    "print((a*f)*c)\n",
    "if isinstance((a*f), np.float_):\n",
    "    print(1)"
   ]
  },
  {
   "cell_type": "code",
   "execution_count": 59,
   "metadata": {},
   "outputs": [
    {
     "data": {
      "text/plain": [
       "3.297442541400256"
      ]
     },
     "execution_count": 59,
     "metadata": {},
     "output_type": "execute_result"
    }
   ],
   "source": [
    "x = Variable(np.array(0.5))\n",
    "\n",
    "y = square(exp(square(x)))\n",
    "y.backward()\n",
    "x.dx"
   ]
  },
  {
   "cell_type": "markdown",
   "metadata": {},
   "source": [
    "# 1. Backward: Recurrence ==> Iteration"
   ]
  },
  {
   "cell_type": "code",
   "execution_count": 60,
   "metadata": {},
   "outputs": [],
   "source": [
    "class Variable(object):\n",
    "    def __init__(self, data):\n",
    "        self.data = data\n",
    "        self.grad = None\n",
    "        self.creator = None\n",
    "    \n",
    "    def set_creator(self, func):\n",
    "        self.creator = func\n",
    "\n",
    "    def backward(self):\n",
    "        funcs = [self.creator]\n",
    "        while funcs:\n",
    "            f = funcs.pop()\n",
    "            x, y = f.input, f.output\n",
    "            x.grad = f.backward(y.grad)\n",
    "\n",
    "            if x.creator is not None:\n",
    "                funcs.append(x.creator)\n",
    "\n",
    "class Function(object):\n",
    "    def __call__(self, var):\n",
    "        x = var.data\n",
    "        y = self.forward(x)\n",
    "        y = Variable(y)\n",
    "        y.set_creator(self)\n",
    "        self.input = var\n",
    "        self.output = y\n",
    "        return y\n",
    "    \n",
    "    def forward(self):\n",
    "        return NotImplementedError()\n",
    "    \n",
    "    def backward(self):\n",
    "        return NotImplementedError()\n",
    "    \n",
    "class Square(Function):\n",
    "    def forward(self, data):\n",
    "        return data ** 2\n",
    "    \n",
    "    def backward(self, gy):\n",
    "        x = self.input.data\n",
    "        gx = 2 * x * gy\n",
    "        return gx\n",
    "\n",
    "class Exp(Function):\n",
    "    def forward(self, data):\n",
    "        return np.exp(data)\n",
    "    \n",
    "    def backward(self, gy):\n",
    "        x = self.input.data\n",
    "        gx = np.exp(x) * gy\n",
    "        return gx"
   ]
  },
  {
   "cell_type": "code",
   "execution_count": 61,
   "metadata": {},
   "outputs": [
    {
     "name": "stdout",
     "output_type": "stream",
     "text": [
      "3.297442541400256\n"
     ]
    }
   ],
   "source": [
    "\n",
    "A = Square()\n",
    "B = Exp()\n",
    "C = Square()\n",
    "\n",
    "x = Variable(np.array(0.5))\n",
    "a = A(x)\n",
    "b = B(a)\n",
    "y = C(b)\n",
    "\n",
    "y.grad = np.array(1.0)\n",
    "y.backward()\n",
    "print(x.grad)"
   ]
  },
  {
   "cell_type": "markdown",
   "metadata": {},
   "source": [
    "# 2. Function subclass의 사용을 편리하게"
   ]
  },
  {
   "cell_type": "code",
   "execution_count": 70,
   "metadata": {},
   "outputs": [],
   "source": [
    "def as_array(x):\n",
    "    if np.isscalar(x):\n",
    "        return np.array(x)\n",
    "    return x\n",
    "\n",
    "class Variable(object):\n",
    "    def __init__(self, data):\n",
    "        if data is not None:\n",
    "            if not isinstance(data, np.ndarray):\n",
    "                raise TypeError(f\"{type(data)}은(는) 지원하지 않습니다.\")\n",
    "        self.data = data\n",
    "        self.grad = None\n",
    "        self.creator = None\n",
    "    \n",
    "    def set_creator(self, func):\n",
    "        self.creator = func\n",
    "\n",
    "    def backward(self):\n",
    "        if self.grad is None:\n",
    "            self.grad = np.ones_like(self.data)\n",
    "\n",
    "        funcs = [self.creator]\n",
    "        while funcs:\n",
    "            f = funcs.pop()\n",
    "            x, y = f.input, f.output\n",
    "            x.grad = f.backward(y.grad)\n",
    "\n",
    "            if x.creator is not None:\n",
    "                funcs.append(x.creator)\n",
    "\n",
    "class Function(object):\n",
    "    def __call__(self, var):\n",
    "        x = var.data\n",
    "        y = as_array(self.forward(x))\n",
    "        y = Variable(y)\n",
    "        y.set_creator(self)\n",
    "        self.input = var\n",
    "        self.output = y\n",
    "        return y\n",
    "    \n",
    "    def forward(self):\n",
    "        return NotImplementedError()\n",
    "    \n",
    "    def backward(self):\n",
    "        return NotImplementedError()\n",
    "    \n",
    "class Square(Function):\n",
    "    def forward(self, data):\n",
    "        return data ** 2\n",
    "    \n",
    "    def backward(self, gy):\n",
    "        x = self.input.data\n",
    "        gx = 2 * x * gy\n",
    "        return gx\n",
    "\n",
    "class Exp(Function):\n",
    "    def forward(self, data):\n",
    "        return np.exp(data)\n",
    "    \n",
    "    def backward(self, gy):\n",
    "        x = self.input.data\n",
    "        gx = np.exp(x) * gy\n",
    "        return gx\n",
    "\n",
    "def square(x):\n",
    "    return Square()(x)\n",
    "\n",
    "def exp(x):\n",
    "    return Exp()(x)"
   ]
  },
  {
   "cell_type": "code",
   "execution_count": 71,
   "metadata": {},
   "outputs": [
    {
     "name": "stdout",
     "output_type": "stream",
     "text": [
      "3.297442541400256\n"
     ]
    }
   ],
   "source": [
    "x = Variable(np.array(0.5))\n",
    "y = square(exp(square(x)))\n",
    "#y.grad = np.array(1.0)\n",
    "y.backward()\n",
    "print(x.grad)"
   ]
  },
  {
   "cell_type": "markdown",
   "metadata": {},
   "source": [
    "# 3. Code 작동 Test 기법: UnitTest module"
   ]
  },
  {
   "cell_type": "code",
   "execution_count": 95,
   "metadata": {},
   "outputs": [],
   "source": [
    "import unittest\n",
    "\n",
    "def numerical_diff(f, x, eps=1e-4):\n",
    "    x1 = Variable(x.data - eps)\n",
    "    x2 = Variable(x.data + eps)\n",
    "    y1 = f(x1)\n",
    "    y2 = f(x2)\n",
    "    return (y2.data - y1.data) / (2 * eps)\n",
    "\n",
    "class SquareTest(unittest.TestCase):\n",
    "    def test_forward(self):\n",
    "        x = Variable(np.array(2.0))\n",
    "        y = square(x)\n",
    "        expected = np.array(4.0)\n",
    "        self.assertEqual(y.data, expected)\n",
    "\n",
    "    def test_backward(self):\n",
    "        x = Variable(np.array(3.0))\n",
    "        y = square(x)\n",
    "        y.backward()\n",
    "        expected = np.array(6.0)\n",
    "        self.assertEqual(x.grad, expected)\n",
    "\n",
    "    def test_gradient_check(self):\n",
    "        x = Variable(np.random.rand(1))\n",
    "        y = square(x)\n",
    "        y.backward()\n",
    "        num_grad = numerical_diff(square, x)\n",
    "        flg = np.allclose(x.grad, num_grad)\n",
    "        self.assertTrue(flg)"
   ]
  },
  {
   "cell_type": "code",
   "execution_count": 96,
   "metadata": {},
   "outputs": [
    {
     "name": "stderr",
     "output_type": "stream",
     "text": [
      "test_backward (__main__.SquareTest.test_backward) ... ok\n",
      "test_forward (__main__.SquareTest.test_forward) ... ok\n",
      "test_gradient_check (__main__.SquareTest.test_gradient_check) ... ok\n",
      "\n",
      "----------------------------------------------------------------------\n",
      "Ran 3 tests in 0.010s\n",
      "\n",
      "OK\n"
     ]
    },
    {
     "data": {
      "text/plain": [
       "<unittest.main.TestProgram at 0x7fc80d471c40>"
      ]
     },
     "execution_count": 96,
     "metadata": {},
     "output_type": "execute_result"
    }
   ],
   "source": [
    "unittest.main(argv=[''], verbosity=2, exit=False)"
   ]
  },
  {
   "cell_type": "markdown",
   "metadata": {},
   "source": [
    "# 4. 입력 크기 확장"
   ]
  },
  {
   "cell_type": "code",
   "execution_count": 103,
   "metadata": {},
   "outputs": [],
   "source": [
    "class Function(object):\n",
    "    def __call__(self, inputs):\n",
    "        xs = [x.data for x in inputs]\n",
    "        ys = self.forward(xs)\n",
    "        outputs = [Variable(as_array(y)) for y in ys]\n",
    "\n",
    "        for output in outputs:\n",
    "            output.set_creator(self)\n",
    "        \n",
    "        self.inputs = inputs\n",
    "        self.outputs = outputs\n",
    "        return outputs\n",
    "    \n",
    "    def forward(self):\n",
    "        return NotImplementedError()\n",
    "    \n",
    "    def backward(self):\n",
    "        return NotImplementedError()\n",
    "    \n",
    "class Square(Function):\n",
    "    def forward(self, data):\n",
    "        return data ** 2\n",
    "    \n",
    "    def backward(self, gy):\n",
    "        x = self.input.data\n",
    "        gx = 2 * x * gy\n",
    "        return gx\n",
    "\n",
    "class Exp(Function):\n",
    "    def forward(self, data):\n",
    "        return np.exp(data)\n",
    "    \n",
    "    def backward(self, gy):\n",
    "        x = self.input.data\n",
    "        gx = np.exp(x) * gy\n",
    "        return gx\n",
    "\n",
    "def square(x):\n",
    "    return Square()(x)\n",
    "\n",
    "def exp(x):\n",
    "    return Exp()(x)\n",
    "\n",
    "class Add(Function):\n",
    "    def forward(self, xs):\n",
    "        x0, x1 = xs\n",
    "        y = x0 + x1\n",
    "        return (y, )"
   ]
  },
  {
   "cell_type": "code",
   "execution_count": 104,
   "metadata": {},
   "outputs": [
    {
     "name": "stdout",
     "output_type": "stream",
     "text": [
      "5.0\n"
     ]
    }
   ],
   "source": [
    "xs = [Variable(np.array(2.0)), Variable(np.array(3))]\n",
    "f = Add()\n",
    "ys = f(xs)\n",
    "y = ys[0]\n",
    "print(y.data)"
   ]
  },
  {
   "cell_type": "code",
   "execution_count": null,
   "metadata": {},
   "outputs": [],
   "source": []
  }
 ],
 "metadata": {
  "kernelspec": {
   "display_name": "deeplearning",
   "language": "python",
   "name": "python3"
  },
  "language_info": {
   "codemirror_mode": {
    "name": "ipython",
    "version": 3
   },
   "file_extension": ".py",
   "mimetype": "text/x-python",
   "name": "python",
   "nbconvert_exporter": "python",
   "pygments_lexer": "ipython3",
   "version": "3.12.2"
  }
 },
 "nbformat": 4,
 "nbformat_minor": 2
}
