{
 "cells": [
  {
   "cell_type": "markdown",
   "metadata": {},
   "source": [
    "# 지난 시간 복습\n",
    "\n",
    "1. Backward 연산을 재귀 => 반복\n",
    "2. Function subclass의 사용을 편리하게\n",
    "3. Code 작동 Test 기법: UnitTest module\n",
    "4. 입력 크기 확장  \n",
    "  \n",
    "2,3,4는 거의 정리할 내용이 없음.  \n",
    "1은 CS 지식 정리할 겸, 조금 자세히 준비해서 PPT 만들었음.  \n",
    "자세한 내용과 꼬리 재귀에 관한 내용은 notion에 정리.  "
   ]
  },
  {
   "cell_type": "code",
   "execution_count": 76,
   "metadata": {},
   "outputs": [],
   "source": [
    "import numpy as np\n",
    "\n",
    "def as_array(x):\n",
    "    return np.array(x)\n",
    "\n",
    "class Variable:\n",
    "    def __init__(self, data):\n",
    "        self.x = data\n",
    "        self.creator = None\n",
    "        self.dx = None\n",
    "\n",
    "    def set_creator(self, func):\n",
    "        self.creator = func\n",
    "\n",
    "    def backward(self):\n",
    "        if self.dx is None:\n",
    "            self.dx = np.ones_like(self.x)\n",
    "        funcs = [self.creator]\n",
    "        while funcs:\n",
    "            func = funcs.pop()\n",
    "            cur_dx = func.backward()\n",
    "            prev_dx = func.output.dx\n",
    "            func.input.dx = cur_dx * prev_dx\n",
    "            print(func.input.dx)\n",
    "            if func.input.creator is not None:\n",
    "                funcs.append(func.input.creator)\n",
    "        return\n",
    "    \n",
    "class Function:\n",
    "    def __call__(self, vars):\n",
    "        if type(vars) == list:\n",
    "            xs = [var.x for var in vars]\n",
    "            ys = list(map(Variable, map(as_array, self.forward(xs))))\n",
    "            for y in ys:\n",
    "                y.set_creator(self)\n",
    "        else:\n",
    "            xs = vars.x\n",
    "            ys = as_array(self.forward(xs))\n",
    "            ys = Variable(ys)\n",
    "            ys.set_creator(self)\n",
    "        self.input = vars\n",
    "        self.output = ys\n",
    "        return ys\n",
    "    \n",
    "    def forward(self):\n",
    "        return NotImplementedError()\n",
    "    \n",
    "    def backward(self):\n",
    "        return NotImplementedError()\n",
    "    \n",
    "class Exp(Function):\n",
    "    def forward(self, x):\n",
    "        return np.exp(x)\n",
    "    \n",
    "    def backward(self):\n",
    "        return np.exp(self.input.x)\n",
    "    \n",
    "class Square(Function):\n",
    "    def forward(self, x):\n",
    "        return x ** 2\n",
    "    \n",
    "    def backward(self):\n",
    "        return 2 * self.input.x\n",
    "    \n",
    "def exp(x=None):\n",
    "    return Exp()(x) if x is not None else Exp()\n",
    "\n",
    "def square(x=None):\n",
    "    return Square()(x) if x is not None else Square()    \n",
    "\n",
    "class Add(Function):\n",
    "    def forward(self, xs):\n",
    "        x0, x1 = xs\n",
    "        y = x0 + x1\n",
    "        return y,"
   ]
  },
  {
   "cell_type": "code",
   "execution_count": 77,
   "metadata": {},
   "outputs": [
    {
     "name": "stdout",
     "output_type": "stream",
     "text": [
      "2.568050833375483\n",
      "3.297442541400256\n",
      "3.297442541400256\n"
     ]
    },
    {
     "data": {
      "text/plain": [
       "3.297442541400256"
      ]
     },
     "execution_count": 77,
     "metadata": {},
     "output_type": "execute_result"
    }
   ],
   "source": [
    "x = Variable(np.array(0.5))\n",
    "\n",
    "y = square(exp(square(x)))\n",
    "y.backward()\n",
    "x.dx"
   ]
  },
  {
   "cell_type": "code",
   "execution_count": 78,
   "metadata": {},
   "outputs": [
    {
     "data": {
      "text/plain": [
       "2"
      ]
     },
     "execution_count": 78,
     "metadata": {},
     "output_type": "execute_result"
    }
   ],
   "source": [
    "arr = np.array([0.1,0.2])\n",
    "len(arr)"
   ]
  },
  {
   "cell_type": "code",
   "execution_count": 79,
   "metadata": {},
   "outputs": [
    {
     "name": "stdout",
     "output_type": "stream",
     "text": [
      "5.0\n"
     ]
    }
   ],
   "source": [
    "xs = [Variable(np.array(2.0)), Variable(np.array(3))]\n",
    "f = Add()\n",
    "ys = f(xs)\n",
    "y = ys[0]\n",
    "print(y.x)"
   ]
  },
  {
   "cell_type": "markdown",
   "metadata": {},
   "source": [
    "# 이번주에는 총 3가지를 배운다\n",
    "1. 가변 길이 인수(step11의 개선 편)\n",
    "2. 가변 길이 인수(역전파)\n",
    "3. 같은 변수 반복 사용"
   ]
  },
  {
   "cell_type": "markdown",
   "metadata": {},
   "source": [
    "# Not Clone coding"
   ]
  },
  {
   "cell_type": "code",
   "execution_count": 95,
   "metadata": {},
   "outputs": [],
   "source": [
    "from typing import List, Tuple\n",
    "\n",
    "class Variable:\n",
    "    def __init__(self, data):\n",
    "        self.data = data\n",
    "        self.creator = None\n",
    "        self.grad = None\n",
    "    \n",
    "    def set_creator(self, func):\n",
    "        self.creator = func\n",
    "\n",
    "    def backward(self):\n",
    "        if self.grad is None:\n",
    "            self.grad = np.ones_like(self.data)\n",
    "        funcs = [self.creator]\n",
    "        while funcs:\n",
    "            func = funcs.pop()\n",
    "            x, y = func.input, func.output\n",
    "            gy = y.grad\n",
    "            gx = func.backward(gy)\n",
    "            x.grad = gx\n",
    "            if x.creator is not None:\n",
    "                funcs.append(x.creator)\n",
    "    \n",
    "    def cleangrad(self):\n",
    "        self.grad = None\n",
    "\n",
    "class Function:\n",
    "    def __call__(self, *inputs: List[Variable]):\n",
    "        xs:List[np.array] = [input.data for input in inputs]\n",
    "        ys:Tuple[np.array] = self.forward(*xs)\n",
    "        \n",
    "        if not isinstance(ys, tuple):\n",
    "            ys = ys,\n",
    "        for y in ys:\n",
    "            y = Variable(y)\n",
    "            y.set_creator(self)\n",
    "        self.inputs:List[Variable] = inputs\n",
    "        self.outputs:List[Variable] = ys\n",
    "        return ys\n",
    "    \n",
    "    def forward(self):\n",
    "        return NotImplementedError()\n",
    "    \n",
    "    def backward(self):\n",
    "        return NotImplementedError()\n",
    "    \n",
    "class Add(Function):\n",
    "    def forward(self, x0, x1):\n",
    "        y = x0 + x1\n",
    "        return y,\n",
    "\n",
    "    def backward(self, gy):\n",
    "        return gy, gy\n",
    "    \n",
    "class Exp(Function):\n",
    "    def forward(self, x):\n",
    "        return np.exp(x)\n",
    "    \n",
    "    def backward(self, gy):\n",
    "        x = self.inputs[0].data\n",
    "        gx = np.exp(x) * gy\n",
    "        return gx\n",
    "    \n",
    "class Square(Function):\n",
    "    def forward(self, x):\n",
    "        return x ** 2\n",
    "    \n",
    "    def backward(self, gy):\n",
    "        x = self.inputs[0].data\n",
    "        gx = 2 * x * gy\n",
    "        return gx\n",
    "    \n",
    "\n",
    "        "
   ]
  },
  {
   "cell_type": "markdown",
   "metadata": {},
   "source": [
    "# 1. 가변 길이 인수(step11의 개선 편)"
   ]
  },
  {
   "cell_type": "code",
   "execution_count": 81,
   "metadata": {},
   "outputs": [],
   "source": [
    "def as_array(x):\n",
    "    if np.isscalar(x):\n",
    "        return np.array(x)\n",
    "    return x\n",
    "\n",
    "class Variable(object):\n",
    "    def __init__(self, data):\n",
    "        if data is not None:\n",
    "            if not isinstance(data, np.ndarray):\n",
    "                raise TypeError(f\"{type(data)}은(는) 지원하지 않습니다.\")\n",
    "        self.data = data\n",
    "        self.grad = None\n",
    "        self.creator = None\n",
    "    \n",
    "    def set_creator(self, func):\n",
    "        self.creator = func\n",
    "\n",
    "    def backward(self):\n",
    "        if self.grad is None:\n",
    "            self.grad = np.ones_like(self.data)\n",
    "\n",
    "        funcs = [self.creator]\n",
    "        while funcs:\n",
    "            f = funcs.pop()\n",
    "            x, y = f.input, f.output\n",
    "            x.grad = f.backward(y.grad)\n",
    "\n",
    "            if x.creator is not None:\n",
    "                funcs.append(x.creator)\n",
    "\n",
    "class Function(object):\n",
    "    def __call__(self, *inputs):\n",
    "        xs = [x.data for x in inputs]\n",
    "        ys = self.forward(*xs)\n",
    "        if not isinstance(ys, tuple):\n",
    "            ys = (ys,)\n",
    "        outputs = [Variable(as_array(y)) for y in ys]\n",
    "\n",
    "        for output in outputs:\n",
    "            output.set_creator(self)\n",
    "        \n",
    "        self.inputs = inputs\n",
    "        self.outputs = outputs\n",
    "        return outputs if len(outputs) > 1 else outputs[0]\n",
    "    \n",
    "    def forward(self):\n",
    "        return NotImplementedError()\n",
    "    \n",
    "    def backward(self):\n",
    "        return NotImplementedError()\n",
    "    \n",
    "class Square(Function):\n",
    "    def forward(self, data):\n",
    "        return data ** 2\n",
    "    \n",
    "    def backward(self, gy):\n",
    "        x = self.input.data\n",
    "        gx = 2 * x * gy\n",
    "        return gx\n",
    "\n",
    "class Exp(Function):\n",
    "    def forward(self, data):\n",
    "        return np.exp(data)\n",
    "    \n",
    "    def backward(self, gy):\n",
    "        x = self.input.data\n",
    "        gx = np.exp(x) * gy\n",
    "        return gx\n",
    "\n",
    "def square(x):\n",
    "    return Square()(x)\n",
    "\n",
    "def exp(x):\n",
    "    return Exp()(x)\n",
    "\n",
    "class Add(Function):\n",
    "    def forward(self, x0, x1):\n",
    "        y = x0 + x1\n",
    "        return (y, )\n",
    "    \n",
    "def add(x0, x1):\n",
    "    return Add()(x0, x1)"
   ]
  },
  {
   "cell_type": "code",
   "execution_count": 82,
   "metadata": {},
   "outputs": [
    {
     "name": "stdout",
     "output_type": "stream",
     "text": [
      "5\n"
     ]
    }
   ],
   "source": [
    "x0 = Variable(np.array(2))\n",
    "x1 = Variable(np.array(3))\n",
    "y = add(x0, x1)\n",
    "print(y.data)"
   ]
  },
  {
   "cell_type": "markdown",
   "metadata": {},
   "source": [
    "# 2. 가변 길이 인수(역전파)"
   ]
  },
  {
   "cell_type": "code",
   "execution_count": 83,
   "metadata": {},
   "outputs": [],
   "source": [
    "class Add(Function):\n",
    "    def forward(self, x0, x1):\n",
    "        y = x0 + x1\n",
    "        return y,\n",
    "\n",
    "    def backward(self, gy):\n",
    "        return gy, gy\n",
    "    \n",
    "class Variable(object):\n",
    "    def __init__(self, data):\n",
    "        if data is not None:\n",
    "            if not isinstance(data, np.ndarray):\n",
    "                raise TypeError(f\"{type(data)}은(는) 지원하지 않습니다.\")\n",
    "        self.data = data\n",
    "        self.grad = None\n",
    "        self.creator = None\n",
    "    \n",
    "    def set_creator(self, func):\n",
    "        self.creator = func\n",
    "\n",
    "    def backward(self):\n",
    "        if self.grad is None:\n",
    "            self.grad = np.ones_like(self.data)\n",
    "\n",
    "        funcs = [self.creator]\n",
    "        while funcs:\n",
    "            f = funcs.pop()\n",
    "            gys = [output.grad for output in f.outputs]\n",
    "            gxs = f.backward(*gys)\n",
    "            if not isinstance(gxs, tuple):\n",
    "                gxs = gxs,\n",
    "            \n",
    "            for x, gx in zip(f.inputs, gxs):\n",
    "                x.grad = gx\n",
    "                if x.creator is not None:\n",
    "                    funcs.append(x.creator)\n",
    "\n",
    "class Square(Function):\n",
    "    def forward(self, x):\n",
    "        return x ** 2\n",
    "\n",
    "    def backward(self, gy):\n",
    "        x = self.inputs[0].data\n",
    "        gx = 2 * x * gy\n",
    "        return gx\n",
    "    \n",
    "def square(x):\n",
    "    return Square()(x)"
   ]
  },
  {
   "cell_type": "code",
   "execution_count": 84,
   "metadata": {},
   "outputs": [
    {
     "name": "stdout",
     "output_type": "stream",
     "text": [
      "13.0\n",
      "4.0\n",
      "6.0\n"
     ]
    }
   ],
   "source": [
    "x = Variable(np.array(2.0))\n",
    "y = Variable(np.array(3.0))\n",
    "\n",
    "z = add(square(x), square(y))\n",
    "z.backward()\n",
    "print(z.data)\n",
    "print(x.grad)\n",
    "print(y.grad)"
   ]
  },
  {
   "cell_type": "markdown",
   "metadata": {},
   "source": [
    "# 3. 같은 변수 반복 사용\n",
    "\n",
    "아래 cell에서 x.grad는 2가 되어야 한다.  \n",
    "$y = x + x = 2x$ 니까, $y' = 2$  \n",
    "그런데, 우리는 grad를 안 더하고, 그냥 덮어씌우니까, 1이 되어버림.  \n",
    "  \n",
    "그리고 += 같은 복합대입연산자의 특징도 알려줌.  \n",
    "그냥 = + 는 새로운 객체를 생성.  \n",
    "**_복합연산자는 해당 객체에 그대로 덮어씌움._**  \n",
    "  \n",
    "즉, 최초에 x.grad = gx.  \n",
    "이후에는 x.grad += gx 해버리면, x.grad랑 gx가 전부 같은 객체가 됨.  \n",
    "그러면, y.grad와 x.grad가 같아져버리겠지.  \n",
    "  \n",
    "그런데, x.grad = x.grad + gx하면,\n",
    "x.grad와 gx가 다른 객체(서로 다른 주소에 저장됨)라서,  \n",
    "y.grad와 x.grad는 독립적으로 연산됨.  \n",
    "  \n",
    "혹시나 했는데, **_Mutable과 Immutable의 작동방식이 다름._**  \n",
    "Mutable에는 위 이론이 맞음.(복합 연산자를 쓰면 같은 객체가 된다.)  \n",
    "Immutable은 해당사항 없음."
   ]
  },
  {
   "cell_type": "code",
   "execution_count": 85,
   "metadata": {},
   "outputs": [
    {
     "name": "stdout",
     "output_type": "stream",
     "text": [
      "a's id: 9825960\n",
      "b's id: 9826024\n",
      "a's id: 9826056\n",
      "a's id: 9826152\n",
      "##############################\n",
      "a's id: 140388517687872\n",
      "b's id: 140389937482240\n",
      "a's id: 140388517687872\n",
      "a's id: 140388514060480\n"
     ]
    }
   ],
   "source": [
    "a = 1\n",
    "b = 3\n",
    "print(f\"a's id: {id(a)}\")\n",
    "print(f\"b's id: {id(b)}\")\n",
    "a += b\n",
    "print(f\"a's id: {id(a)}\")\n",
    "a = a + b\n",
    "print(f\"a's id: {id(a)}\")\n",
    "print(\"#\"*30)\n",
    "a = [1]\n",
    "b = [3]\n",
    "print(f\"a's id: {id(a)}\")\n",
    "print(f\"b's id: {id(b)}\")\n",
    "a += b\n",
    "print(f\"a's id: {id(a)}\")\n",
    "a = a + b\n",
    "print(f\"a's id: {id(a)}\")"
   ]
  },
  {
   "cell_type": "code",
   "execution_count": 86,
   "metadata": {},
   "outputs": [
    {
     "name": "stdout",
     "output_type": "stream",
     "text": [
      "y 6.0\n",
      "x.grad 1.0\n"
     ]
    }
   ],
   "source": [
    "x = Variable(np.array(3.0))\n",
    "y = add(x,x)\n",
    "print(f\"y {y.data}\")\n",
    "\n",
    "y.backward()\n",
    "print(f\"x.grad {x.grad}\")"
   ]
  },
  {
   "cell_type": "code",
   "execution_count": 89,
   "metadata": {},
   "outputs": [],
   "source": [
    "class Variable(object):\n",
    "    def __init__(self, data):\n",
    "        if data is not None:\n",
    "            if not isinstance(data, np.ndarray):\n",
    "                raise TypeError(f\"{type(data)}은(는) 지원하지 않습니다.\")\n",
    "        self.data = data\n",
    "        self.grad = None\n",
    "        self.creator = None\n",
    "    \n",
    "    def set_creator(self, func):\n",
    "        self.creator = func\n",
    "\n",
    "    def backward(self):\n",
    "        if self.grad is None:\n",
    "            self.grad = np.ones_like(self.data)\n",
    "\n",
    "        funcs = [self.creator]\n",
    "        while funcs:\n",
    "            f = funcs.pop()\n",
    "            gys = [output.grad for output in f.outputs]\n",
    "            gxs = f.backward(*gys)\n",
    "            if not isinstance(gxs, tuple):\n",
    "                gxs = gxs,\n",
    "            \n",
    "            for x, gx in zip(f.inputs, gxs):\n",
    "                if x.grad is None:\n",
    "                    x.grad = gx\n",
    "                else:\n",
    "                    x.grad = x.grad + gx\n",
    "                if x.creator is not None:\n",
    "                    funcs.append(x.creator)\n",
    "\n",
    "    def cleangrad(self):\n",
    "        self.grad = None"
   ]
  },
  {
   "cell_type": "markdown",
   "metadata": {},
   "source": [
    "이제 grad를 더하는데, 역전파가 된 변수를 다시 사용하면, 거기에 **_또_** 더한다.  \n",
    "초기화가 필요.  "
   ]
  },
  {
   "cell_type": "code",
   "execution_count": 90,
   "metadata": {},
   "outputs": [
    {
     "name": "stdout",
     "output_type": "stream",
     "text": [
      "2.0\n",
      "5.0\n"
     ]
    }
   ],
   "source": [
    "x = Variable(np.array(3.0))\n",
    "y = add(x, x)\n",
    "y.backward()\n",
    "print(x.grad)\n",
    "\n",
    "y = add(add(x,x),x)\n",
    "y.backward()\n",
    "print(x.grad)"
   ]
  },
  {
   "cell_type": "code",
   "execution_count": 91,
   "metadata": {},
   "outputs": [
    {
     "name": "stdout",
     "output_type": "stream",
     "text": [
      "2.0\n",
      "3.0\n"
     ]
    }
   ],
   "source": [
    "x = Variable(np.array(3.0))\n",
    "y = add(x, x)\n",
    "y.backward()\n",
    "print(x.grad)\n",
    "\n",
    "x.cleangrad()  \n",
    "y = add(add(x,x),x)\n",
    "y.backward()\n",
    "print(x.grad)"
   ]
  }
 ],
 "metadata": {
  "kernelspec": {
   "display_name": "deeplearning",
   "language": "python",
   "name": "python3"
  },
  "language_info": {
   "codemirror_mode": {
    "name": "ipython",
    "version": 3
   },
   "file_extension": ".py",
   "mimetype": "text/x-python",
   "name": "python",
   "nbconvert_exporter": "python",
   "pygments_lexer": "ipython3",
   "version": "3.12.2"
  }
 },
 "nbformat": 4,
 "nbformat_minor": 2
}
