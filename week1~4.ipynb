{
 "cells": [
  {
   "cell_type": "markdown",
   "metadata": {},
   "source": [
    "# 기억나는대로 복습"
   ]
  },
  {
   "cell_type": "code",
   "execution_count": 1,
   "metadata": {},
   "outputs": [],
   "source": [
    "import numpy as np"
   ]
  },
  {
   "cell_type": "markdown",
   "metadata": {},
   "source": [
    "# Basic Var, Func\n",
    "- Variable\n",
    "    * Store data\n",
    "- Function\n",
    "    * Virtual Function\n",
    "    * Only Forward"
   ]
  },
  {
   "cell_type": "code",
   "execution_count": 15,
   "metadata": {},
   "outputs": [],
   "source": [
    "class Variable:\n",
    "    def __init__(self, x:np.array):\n",
    "        self.data = x\n",
    "\n",
    "class Function:\n",
    "    def __call__(self, input:Variable) -> Variable:\n",
    "        x = input.data\n",
    "        y = self.forward(x)\n",
    "        y = Variable(y)\n",
    "        return y\n",
    "\n",
    "    def forward(self):\n",
    "        return NotImplementedError()"
   ]
  },
  {
   "cell_type": "code",
   "execution_count": 16,
   "metadata": {},
   "outputs": [],
   "source": [
    "x = Variable(np.array(4.0))"
   ]
  },
  {
   "cell_type": "markdown",
   "metadata": {},
   "source": [
    "# Basic Calculation\n",
    "- Function\n",
    "    * Exp, Square Function"
   ]
  },
  {
   "cell_type": "code",
   "execution_count": 18,
   "metadata": {},
   "outputs": [],
   "source": [
    "class Exp(Function):\n",
    "    def forward(self, x:np.array) -> np.array:\n",
    "        return np.exp(x)\n",
    "    \n",
    "class Square(Function):\n",
    "    def forward(self, x:np.array) -> np.array:\n",
    "        return x ** 2"
   ]
  },
  {
   "cell_type": "code",
   "execution_count": 19,
   "metadata": {},
   "outputs": [
    {
     "name": "stdout",
     "output_type": "stream",
     "text": [
      "exp(4) = 54.598150033144236\n",
      "4^2 = 16.0\n",
      "4^4 = 256.0\n"
     ]
    }
   ],
   "source": [
    "x = Variable(np.array(4.0))\n",
    "\n",
    "exp = Exp()\n",
    "square = Square()\n",
    "\n",
    "print(f\"exp(4) = {exp(x).data}\")\n",
    "print(f\"4^2 = {square(x).data}\")\n",
    "print(f\"4^4 = {square(square(x)).data}\")"
   ]
  },
  {
   "cell_type": "markdown",
   "metadata": {},
   "source": [
    "# Basic Backward & Numerical Diff\n",
    "- Variable\n",
    "    * save grad, creator\n",
    "    * backward that **_manages the whole backward process_**\n",
    "- Function \n",
    "    * backward that **_calculate the actual diff value_**\n",
    "    * save input, output"
   ]
  },
  {
   "cell_type": "code",
   "execution_count": 76,
   "metadata": {},
   "outputs": [],
   "source": [
    "def numerical_diff(f, x:Variable, eps=1e-5) -> np.array:\n",
    "    x1, x2 = x.data-eps, x.data+eps\n",
    "    y1, y2 = f(x1), f(x2)\n",
    "    diff = (y2 - y1) / (2 * eps)\n",
    "    return diff\n",
    "\n",
    "class Variable:\n",
    "    def __init__(self, x:np.array):\n",
    "        self.data = x\n",
    "\n",
    "        # For backward\n",
    "        self.grad = None\n",
    "        self.creator = None\n",
    "\n",
    "    def recur_backward(self):\n",
    "        if self.creator is not None:\n",
    "            self.grad = np.ones_like(self.data)\n",
    "            self.creator.input.grad = self.creator.backward(self.creator.output.grad)\n",
    "            self.creator.input.recur_backward()\n",
    "\n",
    "    def iter_backward(self):\n",
    "        if self.grad is None:\n",
    "            self.grad = np.ones_like(self.data)\n",
    "        funcs = [self.creator]\n",
    "        while funcs:\n",
    "            func = funcs.pop()\n",
    "            func.input.grad = func.backward(func.output.grad)\n",
    "            if func.input.creator is not None:\n",
    "                funcs.append(func.input.creator)\n",
    "        \n",
    "\n",
    "class Function:\n",
    "    def __call__(self, input:Variable) -> Variable:\n",
    "        self.input = input\n",
    "        x = input.data\n",
    "\n",
    "        y = self.forward(x)\n",
    "        y = Variable(y)\n",
    "        y.creator = self\n",
    "        self.output = y\n",
    "\n",
    "        return y\n",
    "\n",
    "    def forward(self):\n",
    "        return NotImplementedError()\n",
    "    \n",
    "    def backward(self):\n",
    "        return NotImplementedError()\n",
    "    \n",
    "class Exp(Function):\n",
    "    def forward(self, x:np.array) -> np.array:\n",
    "        return np.exp(x)\n",
    "    \n",
    "    def backward(self, gy:np.array) -> np.array:\n",
    "        return np.exp(self.input.data) * gy\n",
    "    \n",
    "class Square(Function):\n",
    "    def forward(self, x:np.array) -> np.array:\n",
    "        return x ** 2\n",
    "    \n",
    "    def backward(self, gy:np.array) -> np.array:\n",
    "        return 2 * self.input.data * gy"
   ]
  },
  {
   "cell_type": "code",
   "execution_count": 77,
   "metadata": {},
   "outputs": [
    {
     "name": "stdout",
     "output_type": "stream",
     "text": [
      "y = 16.0\n",
      "num_diff = 7.999999999785955\n",
      "x.grad = 8.0\n"
     ]
    }
   ],
   "source": [
    "x = Variable(np.array(4.0))\n",
    "\n",
    "func1 = Square()\n",
    "func2 = lambda x: np.square(x)\n",
    "\n",
    "y = func1(x)\n",
    "print(f\"y = {y.data}\")\n",
    "\n",
    "num_diff = numerical_diff(func2,x)\n",
    "print(f\"num_diff = {num_diff}\")\n",
    "\n",
    "y.iter_backward()\n",
    "print(f\"x.grad = {x.grad}\")"
   ]
  },
  {
   "cell_type": "code",
   "execution_count": 79,
   "metadata": {},
   "outputs": [
    {
     "name": "stdout",
     "output_type": "stream",
     "text": [
      "y = 2980.957987041728\n",
      "num_diff = 23847.663926721903\n",
      "x.grad = 23847.663896333823\n"
     ]
    }
   ],
   "source": [
    "x = Variable(np.array(2.0))\n",
    "\n",
    "A = Square()\n",
    "B = Exp()\n",
    "C = Square()\n",
    "comp_func = lambda x: np.square(np.exp(np.square(x)))\n",
    "\n",
    "y = A(B(C(x)))\n",
    "print(f\"y = {y.data}\")\n",
    "\n",
    "num_diff = numerical_diff(comp_func,x)\n",
    "print(f\"num_diff = {num_diff}\")\n",
    "\n",
    "y.iter_backward()\n",
    "print(f\"x.grad = {x.grad}\")"
   ]
  },
  {
   "cell_type": "markdown",
   "metadata": {},
   "source": [
    "# Make usage of Functions easy\n",
    "- Function\n",
    "    * func func"
   ]
  },
  {
   "cell_type": "code",
   "execution_count": 81,
   "metadata": {},
   "outputs": [],
   "source": [
    "def square(x):\n",
    "    return Square()(x)\n",
    "\n",
    "def exp(x):\n",
    "    return Exp()(x)"
   ]
  },
  {
   "cell_type": "code",
   "execution_count": 82,
   "metadata": {},
   "outputs": [
    {
     "name": "stdout",
     "output_type": "stream",
     "text": [
      "y = 2980.957987041728\n",
      "x.grad = 23847.663896333823\n"
     ]
    }
   ],
   "source": [
    "x = Variable(np.array(2.0))\n",
    "\n",
    "y = square(exp(square(x)))\n",
    "print(f\"y = {y.data}\")\n",
    "\n",
    "y.iter_backward()\n",
    "print(f\"x.grad = {x.grad}\")"
   ]
  },
  {
   "cell_type": "markdown",
   "metadata": {},
   "source": [
    "# Extension input size\n",
    "- Function\n",
    "    * use * \n",
    "    * Add func\n",
    "- Variable\n",
    "    * modify input -> inputs: list"
   ]
  },
  {
   "cell_type": "code",
   "execution_count": 87,
   "metadata": {},
   "outputs": [],
   "source": [
    "from typing import List\n",
    "\n",
    "class Variable:\n",
    "    def __init__(self, x:np.array):\n",
    "        self.data = x\n",
    "\n",
    "        # For backward\n",
    "        self.grad = None\n",
    "        self.creator = None\n",
    "\n",
    "    def recur_backward(self):\n",
    "        if self.creator is not None:\n",
    "            #self.grad = np.ones_like(self.data)\n",
    "            self.creator.input.grad = self.creator.backward(self.creator.output.grad)\n",
    "            self.creator.input.recur_backward()\n",
    "\n",
    "    def iter_backward(self):\n",
    "        if self.grad is None:\n",
    "            self.grad = np.ones_like(self.data)\n",
    "        funcs = [self.creator]\n",
    "        while funcs:\n",
    "            func = funcs.pop()\n",
    "            func.input.grad = func.backward(func.output.grad)\n",
    "            if func.input.creator is not None:\n",
    "                funcs.append(func.input.creator)\n",
    "                \n",
    "class Function:\n",
    "    def __call__(self, *inputs:List[Variable]) -> Variable:\n",
    "        self.inputs = inputs\n",
    "        xs = [input.data for input in inputs]\n",
    "\n",
    "        y = self.forward(xs)\n",
    "        y = Variable(y)\n",
    "        y.creator = self\n",
    "        self.output = y\n",
    "\n",
    "        return y\n",
    "\n",
    "    def forward(self):\n",
    "        return NotImplementedError()\n",
    "    \n",
    "    def backward(self):\n",
    "        return NotImplementedError()\n",
    "    \n",
    "class Exp(Function):\n",
    "    def forward(self, xs:np.array) -> np.array:\n",
    "        return np.exp(xs[0])\n",
    "    \n",
    "    def backward(self, gy:np.array) -> np.array:\n",
    "        return np.exp(self.input.data) * gy\n",
    "    \n",
    "class Square(Function):\n",
    "    def forward(self, xs:np.array) -> np.array:\n",
    "        return xs[0] ** 2\n",
    "    \n",
    "    def backward(self, gy:np.array) -> np.array:\n",
    "        return 2 * self.input.data * gy\n",
    "    \n",
    "\n",
    "class Add(Function):\n",
    "    def forward(self, *xs:List[np.array]) -> np.array:\n",
    "        return xs[0] + xs[1]\n",
    "    \n",
    "    def backward(self, gy) -> np.array:\n",
    "        return gy, gy\n",
    "    \n",
    "def add(*xs):\n",
    "    return Add()(xs)"
   ]
  },
  {
   "cell_type": "code",
   "execution_count": 88,
   "metadata": {},
   "outputs": [
    {
     "name": "stdout",
     "output_type": "stream",
     "text": [
      "y = 2980.957987041728\n"
     ]
    },
    {
     "ename": "AttributeError",
     "evalue": "'Square' object has no attribute 'input'",
     "output_type": "error",
     "traceback": [
      "\u001b[0;31m---------------------------------------------------------------------------\u001b[0m",
      "\u001b[0;31mAttributeError\u001b[0m                            Traceback (most recent call last)",
      "Cell \u001b[0;32mIn[88], line 8\u001b[0m\n\u001b[1;32m      5\u001b[0m y1 \u001b[38;5;241m=\u001b[39m square(exp(square(x1)))\n\u001b[1;32m      6\u001b[0m \u001b[38;5;28mprint\u001b[39m(\u001b[38;5;124mf\u001b[39m\u001b[38;5;124m\"\u001b[39m\u001b[38;5;124my = \u001b[39m\u001b[38;5;132;01m{\u001b[39;00my1\u001b[38;5;241m.\u001b[39mdata\u001b[38;5;132;01m}\u001b[39;00m\u001b[38;5;124m\"\u001b[39m)\n\u001b[0;32m----> 8\u001b[0m \u001b[43my1\u001b[49m\u001b[38;5;241;43m.\u001b[39;49m\u001b[43miter_backward\u001b[49m\u001b[43m(\u001b[49m\u001b[43m)\u001b[49m\n\u001b[1;32m      9\u001b[0m \u001b[38;5;28mprint\u001b[39m(\u001b[38;5;124mf\u001b[39m\u001b[38;5;124m\"\u001b[39m\u001b[38;5;124mx1.grad = \u001b[39m\u001b[38;5;132;01m{\u001b[39;00mx1\u001b[38;5;241m.\u001b[39mgrad\u001b[38;5;132;01m}\u001b[39;00m\u001b[38;5;124m\"\u001b[39m)\n\u001b[1;32m     11\u001b[0m y2 \u001b[38;5;241m=\u001b[39m add(x2, x3)\n",
      "Cell \u001b[0;32mIn[76], line 27\u001b[0m, in \u001b[0;36mVariable.iter_backward\u001b[0;34m(self)\u001b[0m\n\u001b[1;32m     25\u001b[0m \u001b[38;5;28;01mwhile\u001b[39;00m funcs:\n\u001b[1;32m     26\u001b[0m     func \u001b[38;5;241m=\u001b[39m funcs\u001b[38;5;241m.\u001b[39mpop()\n\u001b[0;32m---> 27\u001b[0m     func\u001b[38;5;241m.\u001b[39minput\u001b[38;5;241m.\u001b[39mgrad \u001b[38;5;241m=\u001b[39m \u001b[43mfunc\u001b[49m\u001b[38;5;241;43m.\u001b[39;49m\u001b[43mbackward\u001b[49m\u001b[43m(\u001b[49m\u001b[43mfunc\u001b[49m\u001b[38;5;241;43m.\u001b[39;49m\u001b[43moutput\u001b[49m\u001b[38;5;241;43m.\u001b[39;49m\u001b[43mgrad\u001b[49m\u001b[43m)\u001b[49m\n\u001b[1;32m     28\u001b[0m     \u001b[38;5;28;01mif\u001b[39;00m func\u001b[38;5;241m.\u001b[39minput\u001b[38;5;241m.\u001b[39mcreator \u001b[38;5;129;01mis\u001b[39;00m \u001b[38;5;129;01mnot\u001b[39;00m \u001b[38;5;28;01mNone\u001b[39;00m:\n\u001b[1;32m     29\u001b[0m         funcs\u001b[38;5;241m.\u001b[39mappend(func\u001b[38;5;241m.\u001b[39minput\u001b[38;5;241m.\u001b[39mcreator)\n",
      "Cell \u001b[0;32mIn[87], line 33\u001b[0m, in \u001b[0;36mSquare.backward\u001b[0;34m(self, gy)\u001b[0m\n\u001b[1;32m     32\u001b[0m \u001b[38;5;28;01mdef\u001b[39;00m \u001b[38;5;21mbackward\u001b[39m(\u001b[38;5;28mself\u001b[39m, gy:np\u001b[38;5;241m.\u001b[39marray) \u001b[38;5;241m-\u001b[39m\u001b[38;5;241m>\u001b[39m np\u001b[38;5;241m.\u001b[39marray:\n\u001b[0;32m---> 33\u001b[0m     \u001b[38;5;28;01mreturn\u001b[39;00m \u001b[38;5;241m2\u001b[39m \u001b[38;5;241m*\u001b[39m \u001b[38;5;28;43mself\u001b[39;49m\u001b[38;5;241;43m.\u001b[39;49m\u001b[43minput\u001b[49m\u001b[38;5;241m.\u001b[39mdata \u001b[38;5;241m*\u001b[39m gy\n",
      "\u001b[0;31mAttributeError\u001b[0m: 'Square' object has no attribute 'input'"
     ]
    }
   ],
   "source": [
    "x1 = Variable(np.array(2.0))\n",
    "x2 = Variable(np.array(4.0))\n",
    "x3 = Variable(np.array(6.0))\n",
    "\n",
    "y1 = square(exp(square(x1)))\n",
    "print(f\"y = {y1.data}\")\n",
    "\n",
    "y1.iter_backward()\n",
    "print(f\"x1.grad = {x1.grad}\")\n",
    "\n",
    "y2 = add(x2, x3)\n",
    "y2.iter_backward()\n",
    "print(f\"x1.grad, x2.grad = {x1.grad}, {x2.grad}\")"
   ]
  },
  {
   "cell_type": "markdown",
   "metadata": {},
   "source": [
    "# 이제부턴 책보고 클론코딩\n",
    "위 내용까지만 기억이 났음"
   ]
  },
  {
   "cell_type": "markdown",
   "metadata": {},
   "source": [
    "## week 1\n",
    "1. Variable\n",
    "2. Funtion\n",
    "3. Numeric diffential"
   ]
  },
  {
   "cell_type": "code",
   "execution_count": 89,
   "metadata": {},
   "outputs": [],
   "source": [
    "class Variable:\n",
    "    def __init__(self, data:np.array):\n",
    "        self.data = data\n",
    "\n",
    "class Function:\n",
    "    def __call__(self, input:Variable):\n",
    "        x = input.data\n",
    "        y = self.forward(x)\n",
    "        output = Variable(y)\n",
    "        return output\n",
    "    \n",
    "    def forward(self, x):\n",
    "        return NotImplementedError()\n",
    "    \n",
    "class Square(Function):\n",
    "    def forward(self, x:np.array) -> np.array:\n",
    "        return x ** 2\n",
    "    \n",
    "class Exp(Function):\n",
    "    def forward(self, x:np.array) -> np.array:\n",
    "        return np.exp(x)"
   ]
  },
  {
   "cell_type": "code",
   "execution_count": 90,
   "metadata": {},
   "outputs": [
    {
     "name": "stdout",
     "output_type": "stream",
     "text": [
      "1.648721270700128\n"
     ]
    }
   ],
   "source": [
    "A = Square()\n",
    "B = Exp()\n",
    "C = Square()\n",
    "\n",
    "x = Variable(np.array(0.5))\n",
    "a = A(x)\n",
    "b = B(a)\n",
    "y = C(b)\n",
    "\n",
    "print(y.data)"
   ]
  },
  {
   "cell_type": "code",
   "execution_count": 93,
   "metadata": {},
   "outputs": [],
   "source": [
    "def numerical_diff(f:Function, x: Variable, eps=1e-4):\n",
    "    x0 = Variable(x.data-eps)\n",
    "    x1 = Variable(x.data+eps)\n",
    "    y0: Variable = f(x0)\n",
    "    y1: Variable = f(x1)\n",
    "    return (y1.data - y0.data) / (2 * eps)"
   ]
  },
  {
   "cell_type": "code",
   "execution_count": 94,
   "metadata": {},
   "outputs": [
    {
     "name": "stdout",
     "output_type": "stream",
     "text": [
      "4.000000000004\n"
     ]
    }
   ],
   "source": [
    "f = Square()\n",
    "x = Variable(np.array(2.0))\n",
    "dy = numerical_diff(f, x)\n",
    "print(dy)"
   ]
  },
  {
   "cell_type": "code",
   "execution_count": 98,
   "metadata": {},
   "outputs": [
    {
     "name": "stdout",
     "output_type": "stream",
     "text": [
      "3.2974426293330694\n"
     ]
    }
   ],
   "source": [
    "def f(x):\n",
    "    A = Square()\n",
    "    B = Exp()\n",
    "    C = Square()\n",
    "    return C(B(C(x)))\n",
    "\n",
    "x = Variable(np.array(0.5))\n",
    "dy = numerical_diff(f, x)\n",
    "print(dy)"
   ]
  },
  {
   "cell_type": "markdown",
   "metadata": {},
   "source": [
    "## week 2\n",
    "\n",
    "1. Backpropagation-Theory\n",
    "2. Manual Backpropagation\n",
    "3. Automatic Backpropagation"
   ]
  },
  {
   "cell_type": "code",
   "execution_count": 112,
   "metadata": {},
   "outputs": [],
   "source": [
    "class Variable:\n",
    "    def __init__(self, data:np.array):\n",
    "        self.data = data\n",
    "        self.grad = None\n",
    "        self.creator = None\n",
    "\n",
    "    def set_creator(self, func):\n",
    "        self.creator = func\n",
    "\n",
    "    def recur_backward(self):\n",
    "        f = self.creator\n",
    "        if f is not None:\n",
    "            x = f.input\n",
    "            x.grad = f.backward(self.grad)\n",
    "            x.recur_backward()\n",
    "\n",
    "class Function:\n",
    "    def __call__(self, input:Variable):\n",
    "        x = input.data\n",
    "        y = self.forward(x)\n",
    "        output = Variable(y)\n",
    "        output.set_creator(self)\n",
    "        self.input = input\n",
    "        self.output = output\n",
    "        return output\n",
    "    \n",
    "    def forward(self, x):\n",
    "        return NotImplementedError()\n",
    "    \n",
    "    def backward(self, gy):\n",
    "        return NotImplementedError()\n",
    "    \n",
    "class Square(Function):\n",
    "    def forward(self, x:np.array) -> np.array:\n",
    "        return x ** 2\n",
    "    \n",
    "    def backward(self, gy:np.array) -> np.array:\n",
    "        return 2 * gy * self.input.data\n",
    "    \n",
    "class Exp(Function):\n",
    "    def forward(self, x:np.array) -> np.array:\n",
    "        return np.exp(x)\n",
    "    \n",
    "    def backward(self, gy:np.array) -> np.array:\n",
    "        return gy * np.exp(self.input.data)"
   ]
  },
  {
   "cell_type": "code",
   "execution_count": 114,
   "metadata": {},
   "outputs": [
    {
     "name": "stdout",
     "output_type": "stream",
     "text": [
      "3.297442541400256\n"
     ]
    }
   ],
   "source": [
    "A = Square()\n",
    "B = Exp()\n",
    "C = Square()\n",
    "\n",
    "x = Variable(np.array(0.5))\n",
    "a = A(x)\n",
    "b = B(a)\n",
    "y = C(b)\n",
    "\n",
    "y.grad = np.array(1.0)\n",
    "y.recur_backward()\n",
    "print(x.grad)"
   ]
  },
  {
   "cell_type": "markdown",
   "metadata": {},
   "source": [
    "## week3\n",
    "1. Backward 연산을 재귀 => 반복\n",
    "2. Function subclass의 사용을 편리하게\n",
    "3. Code 작동 Test 기법: UnitTest module\n",
    "4. 입력 크기 확장"
   ]
  },
  {
   "cell_type": "code",
   "execution_count": 115,
   "metadata": {},
   "outputs": [],
   "source": [
    "def as_array(x):\n",
    "    if np.isscalar(x):\n",
    "        return np.array(x)\n",
    "    return x\n",
    "\n",
    "class Variable:\n",
    "    def __init__(self, data:np.array):\n",
    "        if data is not None:\n",
    "            if not isinstance(data, np.ndarray):\n",
    "                raise TypeError(f\"{type(data)}은(는) 지원하지 않습니다.\")\n",
    "            \n",
    "        self.data = data\n",
    "        self.grad = None\n",
    "        self.creator = None\n",
    "\n",
    "    def set_creator(self, func):\n",
    "        self.creator = func\n",
    "\n",
    "    def backward(self):\n",
    "        if self.grad is None:\n",
    "            self.grad = np.ones_like(self.data)\n",
    "\n",
    "        funcs = [self.creator]\n",
    "        while funcs:\n",
    "            f = funcs.pop()\n",
    "            x, y = f.input, f.output\n",
    "            x.grad = f.backward(y.grad)\n",
    "\n",
    "            if x.creator is not None:\n",
    "                funcs.append(x.creator)\n",
    "\n",
    "class Function:\n",
    "    def __call__(self, input:Variable):\n",
    "        x = input.data\n",
    "        y = self.forward(x)\n",
    "        output = Variable(as_array(y))\n",
    "        output.set_creator(self)\n",
    "        self.input = input\n",
    "        self.output = output\n",
    "        return output\n",
    "    \n",
    "    def forward(self, x):\n",
    "        return NotImplementedError()\n",
    "    \n",
    "    def backward(self, gy):\n",
    "        return NotImplementedError()\n",
    "    \n",
    "class Square(Function):\n",
    "    def forward(self, x:np.array) -> np.array:\n",
    "        return x ** 2\n",
    "    \n",
    "    def backward(self, gy:np.array) -> np.array:\n",
    "        return 2 * gy * self.input.data\n",
    "    \n",
    "class Exp(Function):\n",
    "    def forward(self, x:np.array) -> np.array:\n",
    "        return np.exp(x)\n",
    "    \n",
    "    def backward(self, gy:np.array) -> np.array:\n",
    "        return gy * np.exp(self.input.data)"
   ]
  },
  {
   "cell_type": "code",
   "execution_count": 110,
   "metadata": {},
   "outputs": [
    {
     "name": "stdout",
     "output_type": "stream",
     "text": [
      "3.297442541400256\n"
     ]
    }
   ],
   "source": [
    "A = Square()\n",
    "B = Exp()\n",
    "C = Square()\n",
    "\n",
    "x = Variable(np.array(0.5))\n",
    "a = A(x)\n",
    "b = B(a)\n",
    "y = C(b)\n",
    "\n",
    "y.grad = np.array(1.0)\n",
    "y.backward()\n",
    "print(x.grad)"
   ]
  },
  {
   "cell_type": "code",
   "execution_count": null,
   "metadata": {},
   "outputs": [],
   "source": [
    "def square(x):\n",
    "    return Square()(x)\n",
    "\n",
    "def exp(x):\n",
    "    return Exp()(x)"
   ]
  }
 ],
 "metadata": {
  "kernelspec": {
   "display_name": "deeplearning",
   "language": "python",
   "name": "python3"
  },
  "language_info": {
   "codemirror_mode": {
    "name": "ipython",
    "version": 3
   },
   "file_extension": ".py",
   "mimetype": "text/x-python",
   "name": "python",
   "nbconvert_exporter": "python",
   "pygments_lexer": "ipython3",
   "version": "3.1.undefined"
  }
 },
 "nbformat": 4,
 "nbformat_minor": 2
}
