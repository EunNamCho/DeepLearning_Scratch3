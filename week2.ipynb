{
 "cells": [
  {
   "cell_type": "markdown",
   "metadata": {},
   "source": [
    "# 지난 시간 복습\n",
    "\n",
    "1. Variable\n",
    "2. Function\n",
    "3. Numerical Differential"
   ]
  },
  {
   "cell_type": "code",
   "execution_count": 195,
   "metadata": {},
   "outputs": [],
   "source": [
    "import numpy as np"
   ]
  },
  {
   "cell_type": "code",
   "execution_count": 196,
   "metadata": {},
   "outputs": [],
   "source": [
    "class Variable(object):\n",
    "    def __init__(self, data):\n",
    "        self.data = data\n",
    "\n",
    "class Function(object):\n",
    "    def __call__(self, var):\n",
    "        y = self.forward(var)\n",
    "        return Variable(y)\n",
    "    \n",
    "    def forward(self):\n",
    "        raise NotImplementedError\n",
    "    \n",
    "def numerical_diff(f, x, eps=1e-4):\n",
    "    x = x.data\n",
    "    return (f(Variable(x + eps)).data - f(Variable(x - eps)).data) / (2 * eps)\n",
    "\n"
   ]
  },
  {
   "cell_type": "markdown",
   "metadata": {},
   "source": [
    "Let $f(x) = 10x - 5$  \n",
    "then, $f'(x) = 10$  \n",
    "  \n",
    "Now, I'll check that numerical differential can approximate the real differential."
   ]
  },
  {
   "cell_type": "code",
   "execution_count": 197,
   "metadata": {},
   "outputs": [
    {
     "name": "stdout",
     "output_type": "stream",
     "text": [
      "10.000000000047748\n",
      "True\n"
     ]
    }
   ],
   "source": [
    "class f(Function):\n",
    "    def forward(self, data):\n",
    "        return 10 * data.data - 5\n",
    "    \n",
    "def approx(data):\n",
    "    return round(data)\n",
    "    \n",
    "real_diff = 10\n",
    "data = Variable(np.array(10))\n",
    "num_diff = numerical_diff(f(), data)\n",
    "print(num_diff)\n",
    "print(approx(num_diff) == real_diff)"
   ]
  },
  {
   "cell_type": "code",
   "execution_count": 198,
   "metadata": {},
   "outputs": [
    {
     "name": "stdout",
     "output_type": "stream",
     "text": [
      "3.2974426293330694\n"
     ]
    }
   ],
   "source": [
    "class f(Function):\n",
    "    def forward(self, data):\n",
    "        return np.exp(data.data**2) ** 2\n",
    "    \n",
    "data = Variable(np.array(0.5))\n",
    "dy = numerical_diff(f(), data)\n",
    "print(dy)"
   ]
  },
  {
   "cell_type": "markdown",
   "metadata": {},
   "source": [
    "이번 주에는 총 3가지를 배운다.  \n",
    "\n",
    "1. Backpropagation-Theory\n",
    "2. Manual Backpropagation\n",
    "3. Automatic Backpropagation\n",
    "  \n",
    "--- \n",
    "개인적인 공부 \n",
    "1. Python magic method\n",
    "2. Python decorator"
   ]
  },
  {
   "cell_type": "markdown",
   "metadata": {},
   "source": [
    "# Not clone coding\n",
    "\n",
    "책 내용을 1번만 읽고, 기억나는 기능들을 구현  \n",
    "\n",
    "역전파의 내용을 잘 이해하지 않고, 따라해서 관계식이 잘못됨."
   ]
  },
  {
   "cell_type": "code",
   "execution_count": 199,
   "metadata": {},
   "outputs": [],
   "source": [
    "class Variable(object):\n",
    "    def __init__(self, data: Variable):\n",
    "        self.data: Variable = data\n",
    "        self.grad: Variable = None\n",
    "        self.parent: Function = None\n",
    "\n",
    "    def set_parent(self, parent: Function):\n",
    "        self.parent = parent\n",
    "\n",
    "    def backward(self):\n",
    "        f = self.parent\n",
    "        if f is not None:\n",
    "            dx = f.input\n",
    "            dy = f.backward()\n",
    "            dx.grad = dy\n",
    "            dx.backward()\n",
    "\n",
    "class Function(object):\n",
    "    def __call__(self, var):\n",
    "        self.input: Variable = var\n",
    "        x = var.data\n",
    "\n",
    "        y = self.forward(x)\n",
    "        y = Variable(y)\n",
    "        self.output = y\n",
    "\n",
    "        y.set_parent(self)\n",
    "        return y\n",
    "    \n",
    "    def forward(self):\n",
    "        return NotImplementedError\n",
    "    \n",
    "    def backward(self):\n",
    "        return NotImplementedError\n",
    "    \n",
    "class Exp(Function):\n",
    "    def forward(self, data):\n",
    "        return np.exp(data)\n",
    "    \n",
    "    def backward(self):\n",
    "        return Variable(np.exp(self.output.grad.data))\n",
    "    \n",
    "class Square(Function):\n",
    "    def forward(self, data):\n",
    "        return data ** 2\n",
    "    \n",
    "    def backward(self):\n",
    "        return Variable(2 * self.output.grad.data)"
   ]
  },
  {
   "cell_type": "code",
   "execution_count": 200,
   "metadata": {},
   "outputs": [
    {
     "name": "stdout",
     "output_type": "stream",
     "text": [
      "14.7781121978613\n"
     ]
    }
   ],
   "source": [
    "A = Square()\n",
    "B = Exp()\n",
    "C = Square()\n",
    "\n",
    "x = Variable(np.array(0.5))\n",
    "a = A(x)\n",
    "b = B(a)\n",
    "y = C(b)\n",
    "\n",
    "y.grad = Variable(np.array(1.0))\n",
    "y.backward()\n",
    "print(x.grad.data)"
   ]
  },
  {
   "cell_type": "markdown",
   "metadata": {},
   "source": [
    "# 1. Backpropagation-Theory\n",
    "\n",
    "전 장(step. 4)의 마지막에서 Numerical differential의 단점 (**_높은 계산 복잡도_** , **_오차_** )을 언급하면서 끝나서,  \n",
    "오차역전파가 미분을 위한 방법론이라고 착각했다.  \n",
    "미분을 위한 방법보다는 미분한 값을 어떻게 **_효율적으로 퍼뜨릴 것인가_** 에 대한 방법론인 것 같다.  \n",
    "\n",
    "## 오차 역전파에 대한 이해\n",
    "$f(g) = e^{g}, g(x) = x^{2}$ 이라고 하자. x=2에서 f의 미분값을 구하라.\n",
    "\n",
    "**_전통적인 미분)_** \n",
    "  \n",
    "  $\\frac{df}{dx} = \\frac{dg}{dx}\\frac{df}{dg}$\n",
    "  \n",
    "  $\\frac{dg}{dx} = 2x, \\frac{df}{dg} = e^{g}, \\frac{df}{dx} = 2xe^{h} = 2xe^{x^{2}}$\n",
    "\n",
    "  합성 함수의 미분법에 의해서도,\n",
    "\n",
    "  $\\frac{df}{dx} = 2xe^{x^{2}}$\n",
    "\n",
    "  $\\therefore \\frac{df}{dx}|_{x=2} = 4e^{4}$\n",
    "  \n",
    "  \n",
    "**_수치 미분-중앙 차분)_**\n",
    "\n",
    "  $\\frac{e^{(2+0.0001)^{2}} - e^{(2-0.0001)^{2}}}{2 \\times 0.0001} = 218.3926081... \\approx 4e^{4}$\n",
    "\n",
    "**_역전파)_**  \n",
    "\n",
    "  $g'(x) = 2x, f'(g) = e^{g}$  \n",
    "    \n",
    "  현재 미분하는 함수를 $cur$, 이전 함수를 $prev$ 라고 해보자. 그렇다면, 현재 함수의 미분값($gy$)는 다음과 같다.  \n",
    "  \n",
    "  $cur.gy = prev.gy \\times f'(cur.input)$\n",
    "\n",
    "  $2 \\rightarrow g(x) \\rightarrow 4 \\rightarrow f(g) \\rightarrow e^{4}$    \n",
    "  $\\space\\space\\space\\space\\space\\searrow\\space\\space\\space\\space\\space\\space\\space\\space\\space\\space\\space\\space\\space\\space\\space\\space\\space\\space\\space\\searrow$  \n",
    "  $4e^{4} \\leftarrow g'(x) \\leftarrow e^{4} \\leftarrow f'(g) \\leftarrow 1$  \n",
    "\n",
    "\n",
    "\n"
   ]
  },
  {
   "cell_type": "markdown",
   "metadata": {},
   "source": [
    "# 2. Manual Backpropagation"
   ]
  },
  {
   "cell_type": "code",
   "execution_count": 201,
   "metadata": {},
   "outputs": [],
   "source": [
    "class Variable(object):\n",
    "    def __init__(self, data):\n",
    "        self.data = data\n",
    "        self.grad = None\n",
    "\n",
    "class Function(object):\n",
    "    def __call__(self, input):\n",
    "        x = input.data\n",
    "        y = self.forward(x)\n",
    "        output = Variable(y)\n",
    "        self.input = input\n",
    "        return output\n",
    "    \n",
    "    def forward(self):\n",
    "        return NotImplementedError()\n",
    "    \n",
    "    def backward(self):\n",
    "        return NotImplementedError()\n",
    "    \n",
    "class Square(Function):\n",
    "    def forward(self, data):\n",
    "        return data ** 2\n",
    "    \n",
    "    def backward(self, gy):\n",
    "        x = self.input.data\n",
    "        gx = 2 * x * gy\n",
    "        return gx\n",
    "\n",
    "class Exp(Function):\n",
    "    def forward(self, data):\n",
    "        return np.exp(data)\n",
    "    \n",
    "    def backward(self, gy):\n",
    "        x = self.input.data\n",
    "        gx = np.exp(x) * gy\n",
    "        return gx"
   ]
  },
  {
   "cell_type": "code",
   "execution_count": 202,
   "metadata": {},
   "outputs": [
    {
     "name": "stdout",
     "output_type": "stream",
     "text": [
      "3.297442541400256\n"
     ]
    }
   ],
   "source": [
    "A = Square()\n",
    "B = Exp()\n",
    "C = Square()\n",
    "\n",
    "x = Variable(np.array(0.5))\n",
    "a = A(x)\n",
    "b = B(a)\n",
    "y = C(b)\n",
    "\n",
    "y.grad = np.array(1.0)\n",
    "b.grad = C.backward(y.grad)\n",
    "a.grad = B.backward(b.grad)\n",
    "x.grad = A.backward(a.grad)\n",
    "print(x.grad)"
   ]
  },
  {
   "cell_type": "markdown",
   "metadata": {},
   "source": [
    "# 3. Automatically Backpropagation"
   ]
  },
  {
   "cell_type": "code",
   "execution_count": 203,
   "metadata": {},
   "outputs": [],
   "source": [
    "class Variable(object):\n",
    "    def __init__(self, data):\n",
    "        self.data = data\n",
    "        self.grad = None\n",
    "        self.creator = None\n",
    "    \n",
    "    def set_creator(self, func):\n",
    "        self.creator = func\n",
    "\n",
    "    def backward(self):\n",
    "        f = self.creator\n",
    "        if f is not None:\n",
    "            x = f.input\n",
    "            x.grad = f.backward(self.grad)\n",
    "            x.backward()\n",
    "\n",
    "class Function(object):\n",
    "    def __call__(self, var):\n",
    "        x = var.data\n",
    "        y = self.forward(x)\n",
    "        y = Variable(y)\n",
    "        y.set_creator(self)\n",
    "        self.input = var\n",
    "        self.output = y\n",
    "        return y\n",
    "    \n",
    "    def forward(self):\n",
    "        return NotImplementedError()\n",
    "    \n",
    "    def backward(self):\n",
    "        return NotImplementedError()\n",
    "    \n",
    "class Square(Function):\n",
    "    def forward(self, data):\n",
    "        return data ** 2\n",
    "    \n",
    "    def backward(self, gy):\n",
    "        x = self.input.data\n",
    "        gx = 2 * x * gy\n",
    "        return gx\n",
    "\n",
    "class Exp(Function):\n",
    "    def forward(self, data):\n",
    "        return np.exp(data)\n",
    "    \n",
    "    def backward(self, gy):\n",
    "        x = self.input.data\n",
    "        gx = np.exp(x) * gy\n",
    "        return gx"
   ]
  },
  {
   "cell_type": "code",
   "execution_count": 204,
   "metadata": {},
   "outputs": [
    {
     "name": "stdout",
     "output_type": "stream",
     "text": [
      "3.297442541400256\n"
     ]
    }
   ],
   "source": [
    "\n",
    "A = Square()\n",
    "B = Exp()\n",
    "C = Square()\n",
    "\n",
    "x = Variable(np.array(0.5))\n",
    "a = A(x)\n",
    "b = B(a)\n",
    "y = C(b)\n",
    "\n",
    "y.grad = np.array(1.0)\n",
    "y.backward()\n",
    "print(x.grad)"
   ]
  },
  {
   "cell_type": "markdown",
   "metadata": {},
   "source": [
    "## Additional experiments\n",
    "\n",
    "아래 1가지 내용을 확인\n",
    "1. 입력이 벡터, 행렬이 되어도 잘 작동하나"
   ]
  },
  {
   "cell_type": "markdown",
   "metadata": {},
   "source": [
    "### 1. 입력이 벡터가 되어도 잘 작동하나"
   ]
  },
  {
   "cell_type": "code",
   "execution_count": 205,
   "metadata": {},
   "outputs": [
    {
     "name": "stdout",
     "output_type": "stream",
     "text": [
      "[3.29744254e+00 2.95562244e+01 2.38476639e+04]\n"
     ]
    }
   ],
   "source": [
    "# Vector-input test\n",
    "x = Variable(np.array([0.5, 1.0, 2.0]))\n",
    "a = A(x)\n",
    "b = B(a)\n",
    "y = C(b)\n",
    "\n",
    "y.grad = np.array(1.0)\n",
    "y.backward()\n",
    "print(x.grad)"
   ]
  },
  {
   "cell_type": "code",
   "execution_count": 206,
   "metadata": {},
   "outputs": [
    {
     "name": "stdout",
     "output_type": "stream",
     "text": [
      "[[3.29744254e+00 2.95562244e+01 2.38476639e+04]\n",
      " [5.68534229e+04 2.68337287e+06 7.87919630e+08]]\n"
     ]
    }
   ],
   "source": [
    "# Matrix-input test\n",
    "x = Variable(np.array([[0.5, 1.0, 2.0],[2.1, 2.5, 3.0]]))\n",
    "a = A(x)\n",
    "b = B(a)\n",
    "y = C(b)\n",
    "\n",
    "y.grad = np.array(1.0)\n",
    "y.backward()\n",
    "print(x.grad)"
   ]
  }
 ],
 "metadata": {
  "kernelspec": {
   "display_name": "deeplearning",
   "language": "python",
   "name": "python3"
  },
  "language_info": {
   "codemirror_mode": {
    "name": "ipython",
    "version": 3
   },
   "file_extension": ".py",
   "mimetype": "text/x-python",
   "name": "python",
   "nbconvert_exporter": "python",
   "pygments_lexer": "ipython3",
   "version": "3.12.2"
  }
 },
 "nbformat": 4,
 "nbformat_minor": 2
}
