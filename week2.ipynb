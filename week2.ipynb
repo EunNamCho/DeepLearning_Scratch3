{
 "cells": [
  {
   "cell_type": "markdown",
   "metadata": {},
   "source": [
    "# 지난 시간 복습\n",
    "\n",
    "1. Variable\n",
    "2. Function\n",
    "3. Numerical Differential"
   ]
  },
  {
   "cell_type": "code",
   "execution_count": 157,
   "metadata": {},
   "outputs": [],
   "source": [
    "import numpy as np"
   ]
  },
  {
   "cell_type": "code",
   "execution_count": 158,
   "metadata": {},
   "outputs": [],
   "source": [
    "class Variable(object):\n",
    "    def __init__(self, data):\n",
    "        self.data = data\n",
    "\n",
    "class Function(object):\n",
    "    def __call__(self, var):\n",
    "        y = self.forward(var)\n",
    "        return Variable(y)\n",
    "    \n",
    "    def forward(self):\n",
    "        raise NotImplementedError\n",
    "    \n",
    "def numerical_diff(f, x, eps=1e-4):\n",
    "    x = x.data\n",
    "    return (f(Variable(x + eps)).data - f(Variable(x - eps)).data) / (2 * eps)\n",
    "\n"
   ]
  },
  {
   "cell_type": "markdown",
   "metadata": {},
   "source": [
    "Let $f(x) = 10x - 5$  \n",
    "then, $f'(x) = 10$  \n",
    "  \n",
    "Now, I'll check that numerical differential can approximate the real differential."
   ]
  },
  {
   "cell_type": "code",
   "execution_count": 159,
   "metadata": {},
   "outputs": [
    {
     "name": "stdout",
     "output_type": "stream",
     "text": [
      "10.000000000047748\n",
      "True\n"
     ]
    }
   ],
   "source": [
    "class f(Function):\n",
    "    def forward(self, data):\n",
    "        return 10 * data.data - 5\n",
    "    \n",
    "def approx(data):\n",
    "    return round(data)\n",
    "    \n",
    "real_diff = 10\n",
    "data = Variable(np.array(10))\n",
    "num_diff = numerical_diff(f(), data)\n",
    "print(num_diff)\n",
    "print(approx(num_diff) == real_diff)"
   ]
  },
  {
   "cell_type": "markdown",
   "metadata": {},
   "source": [
    "이번 주에는 총 3가지를 배운다.  \n",
    "\n",
    "1. Backpropagation-Theory\n",
    "2. Manual Backpropagation\n",
    "3. Automatic Backpropagation\n",
    "  \n",
    "--- \n",
    "개인적인 공부 \n",
    "1. Python magic method\n",
    "2. Python decorator"
   ]
  },
  {
   "cell_type": "markdown",
   "metadata": {},
   "source": [
    "# Not clone coding\n",
    "\n",
    "책 내용을 1번만 읽고, 기억나는 기능들을 구현  "
   ]
  },
  {
   "cell_type": "code",
   "execution_count": 162,
   "metadata": {},
   "outputs": [],
   "source": [
    "class Variable(object):\n",
    "    def __init__(self, data: Variable):\n",
    "        self.data: Variable = data\n",
    "        self.grad: Variable = None\n",
    "        self.parent: Function = None\n",
    "\n",
    "    def set_parent(self, parent: Function):\n",
    "        self.parent = parent\n",
    "\n",
    "    def backward(self):\n",
    "        f = self.parent\n",
    "        if f is not None:\n",
    "            dx = f.input\n",
    "            dy = f.backward()\n",
    "            dx.grad = dy\n",
    "            dx.backward()\n",
    "\n",
    "class Function(object):\n",
    "    def __call__(self, var):\n",
    "        self.input: Variable = var\n",
    "        x = var.data\n",
    "\n",
    "        y = self.forward(x)\n",
    "        y = Variable(y)\n",
    "        self.output = y\n",
    "\n",
    "        y.set_parent(self)\n",
    "        return y\n",
    "    \n",
    "    def forward(self):\n",
    "        return NotImplementedError\n",
    "    \n",
    "    def backward(self):\n",
    "        return NotImplementedError\n",
    "    \n",
    "class Exp(Function):\n",
    "    def forward(self, data):\n",
    "        return np.exp(data)\n",
    "    \n",
    "    def backward(self):\n",
    "        return Variable(np.exp(self.output.grad.data))\n",
    "    \n",
    "class Square(Function):\n",
    "    def forward(self, data):\n",
    "        return data ** 2\n",
    "    \n",
    "    def backward(self):\n",
    "        return Variable(2 * self.output.grad.data)"
   ]
  },
  {
   "cell_type": "code",
   "execution_count": 163,
   "metadata": {},
   "outputs": [
    {
     "name": "stdout",
     "output_type": "stream",
     "text": [
      "14.7781121978613\n"
     ]
    }
   ],
   "source": [
    "A = Square()\n",
    "B = Exp()\n",
    "C = Square()\n",
    "\n",
    "x = Variable(np.array(0.5))\n",
    "a = A(x)\n",
    "b = B(a)\n",
    "y = C(b)\n",
    "\n",
    "y.grad = Variable(np.array(1.0))\n",
    "y.backward()\n",
    "print(x.grad.data)"
   ]
  },
  {
   "cell_type": "markdown",
   "metadata": {},
   "source": [
    "# 2. Manual Backpropagation"
   ]
  },
  {
   "cell_type": "code",
   "execution_count": null,
   "metadata": {},
   "outputs": [],
   "source": [
    "class Variable(object):\n",
    "    def __init__(self, data):\n",
    "        self.data = data\n",
    "        self.grad = None\n",
    "\n",
    "class Function(object):\n",
    "    def __call__(self, input):\n",
    "        x = input.data\n",
    "        y = self.forward(x)\n",
    "        output = Variable(y)\n",
    "        self.input = input\n",
    "        return output"
   ]
  }
 ],
 "metadata": {
  "kernelspec": {
   "display_name": "deeplearning",
   "language": "python",
   "name": "python3"
  },
  "language_info": {
   "codemirror_mode": {
    "name": "ipython",
    "version": 3
   },
   "file_extension": ".py",
   "mimetype": "text/x-python",
   "name": "python",
   "nbconvert_exporter": "python",
   "pygments_lexer": "ipython3",
   "version": "3.12.2"
  }
 },
 "nbformat": 4,
 "nbformat_minor": 2
}
