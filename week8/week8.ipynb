{
 "cells": [
  {
   "cell_type": "code",
   "execution_count": 2,
   "metadata": {},
   "outputs": [],
   "source": [
    "import numpy as np\n",
    "from dezero import Variable\n",
    "from dezero.utils import get_dot_graph"
   ]
  },
  {
   "cell_type": "code",
   "execution_count": 6,
   "metadata": {},
   "outputs": [
    {
     "name": "stdout",
     "output_type": "stream",
     "text": [
      "digraph g {\n",
      "139709588168032 [label=\"y\", color=orange, style=filled]\n",
      "139709899205440 [label=\"Add\", color=lightblue, style=filled, shape=box]\n",
      "139709588167936 -> 139709899205440\n",
      "139709587781248 -> 139709899205440\n",
      "139709899205440 -> 139709588168032\n",
      "139709588167936 [label=\"x0\", color=orange, style=filled]\n",
      "139709587781248 [label=\"x1\", color=orange, style=filled]\n",
      "}\n"
     ]
    }
   ],
   "source": [
    "x0 = Variable(np.array(1.0))\n",
    "x1 = Variable(np.array(1.0))\n",
    "y = x0 + x1\n",
    "\n",
    "x0.name = \"x0\"\n",
    "x1.name = \"x1\"\n",
    "y.name = \"y\"\n",
    "\n",
    "txt = get_dot_graph(y, verbose=False)\n",
    "print(txt)\n",
    "\n",
    "with open('simple_compgraph.dot', 'w') as o:\n",
    "    o.write(txt)\n",
    "\n",
    "!dot simple_compgraph.dot -T png -o simple_compgraph.png"
   ]
  },
  {
   "cell_type": "code",
   "execution_count": 4,
   "metadata": {},
   "outputs": [],
   "source": [
    "from dezero.utils import plot_dot_graph\n",
    "\n",
    "def goldstein(x, y):\n",
    "    z = (1 + (x + y + 1)**2 * (19- 14*x + 3*x**2 - 14*y + 6*x*y + 3*y**2)) * \\\n",
    "        (30 + (2*x - 3*y)**2 * (18 - 32*x + 12*x**2 + 48*y - 36*x*y + 27*y**2))\n",
    "    return z\n",
    "\n",
    "x = Variable(np.array(1.0))\n",
    "y = Variable(np.arange(1.0))\n",
    "z = goldstein(x, y)\n",
    "z.backward()\n",
    "\n",
    "x.name = 'x'\n",
    "y.name = 'y'\n",
    "z.name = 'z'\n",
    "plot_dot_graph(z, verbose=False, to_file='goldstein.png')"
   ]
  },
  {
   "cell_type": "code",
   "execution_count": 5,
   "metadata": {},
   "outputs": [
    {
     "data": {
      "text/plain": [
       "1.0"
      ]
     },
     "execution_count": 5,
     "metadata": {},
     "output_type": "execute_result"
    }
   ],
   "source": [
    "a = np.array(1.0)\n",
    "a ** 2"
   ]
  },
  {
   "cell_type": "code",
   "execution_count": null,
   "metadata": {},
   "outputs": [],
   "source": []
  }
 ],
 "metadata": {
  "kernelspec": {
   "display_name": "base",
   "language": "python",
   "name": "python3"
  },
  "language_info": {
   "codemirror_mode": {
    "name": "ipython",
    "version": 3
   },
   "file_extension": ".py",
   "mimetype": "text/x-python",
   "name": "python",
   "nbconvert_exporter": "python",
   "pygments_lexer": "ipython3",
   "version": "3.12.2"
  }
 },
 "nbformat": 4,
 "nbformat_minor": 2
}
