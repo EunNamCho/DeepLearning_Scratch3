{
 "cells": [
  {
   "cell_type": "markdown",
   "metadata": {},
   "source": [
    "이번 주에는 총 3가지를 배운다.  \n",
    "\n",
    "1. Variable\n",
    "2. Funtion\n",
    "3. Backpropagation"
   ]
  },
  {
   "cell_type": "markdown",
   "metadata": {},
   "source": [
    "# Variable\n",
    "\n",
    "이번 강의를 이어나갈 때, 모든 변수(데이터)를 저장하는 형태인듯"
   ]
  },
  {
   "cell_type": "code",
   "execution_count": 91,
   "metadata": {},
   "outputs": [],
   "source": [
    "import numpy as np"
   ]
  },
  {
   "cell_type": "code",
   "execution_count": 92,
   "metadata": {},
   "outputs": [],
   "source": [
    "def my_print(x):\n",
    "    print(f\"The type : {type(x)}\")\n",
    "    if isinstance(x,Variable):\n",
    "        print(f\"The data : {x.data}\")\n",
    "    else:\n",
    "        print(f\"The data : {x}\")"
   ]
  },
  {
   "cell_type": "code",
   "execution_count": 93,
   "metadata": {},
   "outputs": [],
   "source": [
    "class Variable(object):\n",
    "    def __init__(self, x):\n",
    "        self.data = x"
   ]
  },
  {
   "cell_type": "code",
   "execution_count": 94,
   "metadata": {},
   "outputs": [
    {
     "name": "stdout",
     "output_type": "stream",
     "text": [
      "The type : <class '__main__.Variable'>\n",
      "The data : 3.0\n"
     ]
    }
   ],
   "source": [
    "x = Variable(np.array(3.0))\n",
    "\n",
    "my_print(x)"
   ]
  },
  {
   "cell_type": "markdown",
   "metadata": {},
   "source": [
    "# Function\n",
    "\n",
    "가상화같은 느낌으로 이해하면 될 듯  \n",
    "  \n",
    "직접적으로 Function class를 사용하는 것이 아니라,  \n",
    "모든 함수는 Function을 항상 상속하여, 구현되도록 함"
   ]
  },
  {
   "cell_type": "code",
   "execution_count": 95,
   "metadata": {},
   "outputs": [],
   "source": [
    "class Function(object):\n",
    "    def __call__(self, input):\n",
    "        x = input.data\n",
    "        y = self.forward(x)\n",
    "        output = Variable(y)\n",
    "        return output\n",
    "    \n",
    "    def forward(self, x):\n",
    "        raise NotImplementedError() # raise와 assert차이 알아내기"
   ]
  },
  {
   "cell_type": "code",
   "execution_count": 96,
   "metadata": {},
   "outputs": [],
   "source": [
    "#f = Function()\n",
    "#output = f(x)"
   ]
  },
  {
   "cell_type": "code",
   "execution_count": 97,
   "metadata": {},
   "outputs": [],
   "source": [
    "class Square(Function):\n",
    "    def forward(self, x):\n",
    "        return  x ** 2\n",
    "    \n",
    "class Exp(Function):\n",
    "    def forward(self, x):\n",
    "        return np.exp(x)"
   ]
  },
  {
   "cell_type": "code",
   "execution_count": 98,
   "metadata": {},
   "outputs": [
    {
     "name": "stdout",
     "output_type": "stream",
     "text": [
      "The type : <class '__main__.Variable'>\n",
      "The data : 100.0\n"
     ]
    }
   ],
   "source": [
    "x = Variable(np.array(10.))\n",
    "f = Square()\n",
    "y = f(x)\n",
    "\n",
    "my_print(y)"
   ]
  },
  {
   "cell_type": "code",
   "execution_count": 99,
   "metadata": {},
   "outputs": [
    {
     "name": "stdout",
     "output_type": "stream",
     "text": [
      "The type : <class '__main__.Variable'>\n",
      "The data : 1.648721270700128\n"
     ]
    }
   ],
   "source": [
    "A = Square()\n",
    "B = Exp()\n",
    "C = Square()\n",
    "\n",
    "x = Variable(np.array(0.5))\n",
    "a = A(x)\n",
    "b = B(a)\n",
    "y = C(b)\n",
    "my_print(y)"
   ]
  },
  {
   "cell_type": "markdown",
   "metadata": {},
   "source": [
    "## Magic method & Decorator\n",
    "\n",
    "call, init과 같은 유용한 magic method 및 데코레이터 조사"
   ]
  },
  {
   "cell_type": "markdown",
   "metadata": {},
   "source": [
    "### Construction and Initialization\n",
    "1. __new__\n",
    "2. __init__\n",
    "3. __del__"
   ]
  },
  {
   "cell_type": "code",
   "execution_count": 100,
   "metadata": {},
   "outputs": [],
   "source": [
    "class Myclass(object):\n",
    "    def __new__(cls, *args, **kwargs):\n",
    "        # This method is used for ... I don't know well when we can use  and why we should use...\n",
    "        # The point is this method is called before init method\n",
    "        print(\"__new__ method called\")\n",
    "        inst = super().__new__(cls)\n",
    "        return inst\n",
    "    \n",
    "    def __init__(self, name):\n",
    "        print(\"__init__ method called\")\n",
    "        self.name = name\n",
    "\n",
    "    def __del__(self):\n",
    "        # This method is called, when you use \"del ~~\"\n",
    "        print(\"__del__ method called\")"
   ]
  },
  {
   "cell_type": "code",
   "execution_count": 101,
   "metadata": {},
   "outputs": [
    {
     "name": "stdout",
     "output_type": "stream",
     "text": [
      "__new__ method called\n",
      "__init__ method called\n",
      "name: EunNam\n",
      "__del__ method called\n",
      "There is no myclass: name 'myclass' is not defined\n"
     ]
    }
   ],
   "source": [
    "myclass = Myclass(\"EunNam\")\n",
    "\n",
    "print(f\"name: {myclass.name}\")\n",
    "del myclass\n",
    "\n",
    "try:\n",
    "    print(myclass.name)\n",
    "except Exception as e:\n",
    "    print(f\"There is no myclass: {e}\")"
   ]
  },
  {
   "cell_type": "markdown",
   "metadata": {},
   "source": [
    "### Representing\n",
    "\n",
    "1. __repr__\n",
    "2. __str__\n",
    "3. __hash__"
   ]
  },
  {
   "cell_type": "code",
   "execution_count": 109,
   "metadata": {},
   "outputs": [],
   "source": [
    "class Myclass(object):    \n",
    "    def __init__(self, name):\n",
    "        self.name = name\n",
    "\n",
    "    def __repr__(self):\n",
    "        # It provides informations for re-generating class instance\n",
    "        return f\"Myclass('{self.name}')\"\n",
    "\n",
    "    def __str__(self):\n",
    "        # print(instance)\n",
    "        return f\"Myclass named {self.name}\"\n",
    "    \n",
    "    def __hash__(self):\n",
    "        \"\"\"\n",
    "        The hash function is responsible for converting the input into a shorter, constant-length output. \n",
    "        At this time, it is basic to design the output to be different when the input is different. \n",
    "        It is mainly used to check the identity of two objects.\n",
    "        \"\"\"\n",
    "        return hash((self.name))\n",
    "    \n",
    "    def __eq__(self, other):\n",
    "        # obj1 == obj2 behavior\n",
    "        return self.__hash__() == other.__hash__()"
   ]
  },
  {
   "cell_type": "code",
   "execution_count": 110,
   "metadata": {},
   "outputs": [
    {
     "name": "stdout",
     "output_type": "stream",
     "text": [
      "Myclass named EunNam\n",
      "differnt\n"
     ]
    }
   ],
   "source": [
    "myclass1 = Myclass(\"EunNam\")\n",
    "myclass2 = Myclass(\"Cho\")\n",
    "\n",
    "print(myclass1)\n",
    "\n",
    "if myclass1 == myclass2:\n",
    "    print(\"Same\")\n",
    "else:\n",
    "    print(\"differnt\")"
   ]
  },
  {
   "cell_type": "code",
   "execution_count": 111,
   "metadata": {},
   "outputs": [
    {
     "data": {
      "text/plain": [
       "Myclass('EunNam')"
      ]
     },
     "execution_count": 111,
     "metadata": {},
     "output_type": "execute_result"
    }
   ],
   "source": [
    "myclass1"
   ]
  },
  {
   "cell_type": "markdown",
   "metadata": {},
   "source": [
    "### Accessing Attribute\n",
    "\n",
    "I think these methods is not used well.  \n",
    "However, when we must keep class security, Must use these.  \n",
    "It seems relevant to *__\"Encapsulation\"__* \n",
    "  \n",
    "1. __getattr__\n",
    "2. __getattribution__\n",
    "3. __setattr__\n",
    "4. __delattr__   \n",
    "\n",
    "========================\n",
    "\n",
    "1. __setitem__\n",
    "2. __getitem__\n",
    "3. __delitem__\n",
    "4. __contains__"
   ]
  },
  {
   "cell_type": "code",
   "execution_count": 112,
   "metadata": {},
   "outputs": [],
   "source": [
    "class Myclass(object):    \n",
    "    def __init__(self, name):\n",
    "        self.name = name\n",
    "\n",
    "    def __getattribution__(self, name):\n",
    "        print(f\"Rquested attribute '{name}' does not exists.\")\n",
    "\n",
    "    def __setattribution__(self, name):\n",
    "        print(f\"Setting attribute '{name}' to '{name}'\")\n",
    "        self.__dict__[name] = name"
   ]
  },
  {
   "cell_type": "code",
   "execution_count": null,
   "metadata": {},
   "outputs": [],
   "source": []
  },
  {
   "cell_type": "markdown",
   "metadata": {},
   "source": [
    "# Backpropagation\n",
    "  \n",
    "역전파는 다음 시간부터.  \n",
    "  \n",
    "엄밀히 말하면, 역전파의 장점을 부각시키기 위해 미분을 간단히 구현  \n",
    "컴퓨터로 lim 보낼 수 없으니, **_수치미분_** 으로 미분\n",
    "  \n",
    "수치 미분은 lim 대신, **_아주 작은 값_** 을 대입하는 것  "
   ]
  },
  {
   "cell_type": "code",
   "execution_count": 106,
   "metadata": {},
   "outputs": [],
   "source": [
    "def numerical_diff(f, x, eps=1e-4):\n",
    "    x1 = Variable(x.data - eps)\n",
    "    x2 = Variable(x.data + eps)\n",
    "\n",
    "    y1 = f(x1)\n",
    "    y2 = f(x2)\n",
    "\n",
    "    return (y2.data - y1.data) / (2 * eps)"
   ]
  },
  {
   "cell_type": "code",
   "execution_count": 107,
   "metadata": {},
   "outputs": [
    {
     "name": "stdout",
     "output_type": "stream",
     "text": [
      "The type : <class 'numpy.float64'>\n",
      "The data : 4.000000000004\n"
     ]
    }
   ],
   "source": [
    "f = Square()\n",
    "x = Variable(np.array(2.0))\n",
    "dy = numerical_diff(f, x)\n",
    "\n",
    "my_print(dy)"
   ]
  },
  {
   "cell_type": "code",
   "execution_count": 108,
   "metadata": {},
   "outputs": [
    {
     "name": "stdout",
     "output_type": "stream",
     "text": [
      "The type : <class 'numpy.float64'>\n",
      "The data : 3.2974426293330694\n"
     ]
    }
   ],
   "source": [
    "def f(x):\n",
    "    A = Square()\n",
    "    B = Exp()\n",
    "    C = Square()\n",
    "    return C(B(A(x)))\n",
    "\n",
    "x = Variable(np.array(0.5))\n",
    "dy = numerical_diff(f,x)\n",
    "\n",
    "my_print(dy)"
   ]
  },
  {
   "cell_type": "code",
   "execution_count": null,
   "metadata": {},
   "outputs": [],
   "source": []
  }
 ],
 "metadata": {
  "kernelspec": {
   "display_name": "cuda12.2",
   "language": "python",
   "name": "python3"
  },
  "language_info": {
   "codemirror_mode": {
    "name": "ipython",
    "version": 3
   },
   "file_extension": ".py",
   "mimetype": "text/x-python",
   "name": "python",
   "nbconvert_exporter": "python",
   "pygments_lexer": "ipython3",
   "version": "3.11.7"
  }
 },
 "nbformat": 4,
 "nbformat_minor": 2
}
