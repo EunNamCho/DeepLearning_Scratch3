{
 "cells": [
  {
   "cell_type": "markdown",
   "metadata": {},
   "source": [
    "# 이번 주에는 총 3가지를 배운다.  \n",
    "\n",
    "1. Variable\n",
    "2. Funtion\n",
    "3. Numeric diffential\n",
    "  \n",
    "--- \n",
    "개인적인 공부 \n",
    "1. Python magic method\n",
    "2. Python decorator"
   ]
  },
  {
   "cell_type": "markdown",
   "metadata": {},
   "source": [
    "# Variable\n",
    "\n",
    "이번 강의를 이어나갈 때, 모든 변수(데이터)를 저장하는 형태인듯"
   ]
  },
  {
   "cell_type": "code",
   "execution_count": 135,
   "metadata": {},
   "outputs": [],
   "source": [
    "import numpy as np"
   ]
  },
  {
   "cell_type": "code",
   "execution_count": 136,
   "metadata": {},
   "outputs": [],
   "source": [
    "def my_print(x):\n",
    "    print(f\"The type : {type(x)}\")\n",
    "    if isinstance(x,Variable):\n",
    "        print(f\"The data : {x.data}\")\n",
    "    else:\n",
    "        print(f\"The data : {x}\")"
   ]
  },
  {
   "cell_type": "code",
   "execution_count": 137,
   "metadata": {},
   "outputs": [],
   "source": [
    "class Variable(object):\n",
    "    def __init__(self, x):\n",
    "        self.data = x"
   ]
  },
  {
   "cell_type": "code",
   "execution_count": 138,
   "metadata": {},
   "outputs": [
    {
     "name": "stdout",
     "output_type": "stream",
     "text": [
      "The type : <class '__main__.Variable'>\n",
      "The data : 3.0\n"
     ]
    }
   ],
   "source": [
    "x = Variable(np.array(3.0))\n",
    "\n",
    "my_print(x)"
   ]
  },
  {
   "cell_type": "markdown",
   "metadata": {},
   "source": [
    "# Function\n",
    "\n",
    "가상화같은 느낌으로 이해하면 될 듯  \n",
    "  \n",
    "직접적으로 Function class를 사용하는 것이 아니라,  \n",
    "모든 함수는 Function을 항상 상속하여, 구현되도록 함"
   ]
  },
  {
   "cell_type": "code",
   "execution_count": 139,
   "metadata": {},
   "outputs": [],
   "source": [
    "class Function(object):\n",
    "    def __call__(self, input):\n",
    "        x = input.data\n",
    "        y = self.forward(x)\n",
    "        output = Variable(y)\n",
    "        return output\n",
    "    \n",
    "    def forward(self, x):\n",
    "        raise NotImplementedError() # raise와 assert차이 알아내기"
   ]
  },
  {
   "cell_type": "code",
   "execution_count": 140,
   "metadata": {},
   "outputs": [],
   "source": [
    "#f = Function()\n",
    "#output = f(x)"
   ]
  },
  {
   "cell_type": "code",
   "execution_count": 141,
   "metadata": {},
   "outputs": [],
   "source": [
    "class Square(Function):\n",
    "    def forward(self, x):\n",
    "        return  x ** 2\n",
    "    \n",
    "class Exp(Function):\n",
    "    def forward(self, x):\n",
    "        return np.exp(x)"
   ]
  },
  {
   "cell_type": "markdown",
   "metadata": {},
   "source": [
    "## Activation func\n",
    "\n",
    "활성화 함수는 역전파 적용 안됨\n",
    "\n",
    "1. Sigmoid = $\\frac{1}{1+e^{-x}}$  \n",
    "  \n",
    "2. Tanh = $\\frac{sinh^{x}}{cosh^{x}}$\n",
    "  \n",
    "3. Softmax = $\\frac{e^{x_{i}}}{\\sum^{N}_{j=1}e^{x_{j}}}$\n",
    "  \n",
    "4. ReLU = $Max(0, x)$ "
   ]
  },
  {
   "cell_type": "code",
   "execution_count": 142,
   "metadata": {},
   "outputs": [],
   "source": [
    "class Sigmoid(Function):\n",
    "    def forward(self, x):\n",
    "        return 1 / (1 + np.exp(-x))\n",
    "    \n",
    "class Tanh(Function):\n",
    "    def forward(self, x):\n",
    "        return np.sinh(x) / np.cosh(x)\n",
    "    \n",
    "class Softmax(Function):\n",
    "    def forward(self, x):\n",
    "        exps = np.exp(x)\n",
    "        return exps / np.sum(exps)\n",
    "    \n",
    "class ReLU(Function):\n",
    "    def forwrad(self, x):\n",
    "        index = x > 0\n",
    "        return x * index"
   ]
  },
  {
   "cell_type": "code",
   "execution_count": 143,
   "metadata": {},
   "outputs": [
    {
     "name": "stdout",
     "output_type": "stream",
     "text": [
      "The type : <class '__main__.Variable'>\n",
      "The data : 100.0\n"
     ]
    }
   ],
   "source": [
    "x = Variable(np.array(10.))\n",
    "f = Square()\n",
    "y = f(x)\n",
    "\n",
    "my_print(y)"
   ]
  },
  {
   "cell_type": "code",
   "execution_count": 144,
   "metadata": {},
   "outputs": [
    {
     "name": "stdout",
     "output_type": "stream",
     "text": [
      "The type : <class '__main__.Variable'>\n",
      "The data : 1.648721270700128\n"
     ]
    }
   ],
   "source": [
    "A = Square()\n",
    "B = Exp()\n",
    "C = Square()\n",
    "\n",
    "x = Variable(np.array(0.5))\n",
    "a = A(x)\n",
    "b = B(a)\n",
    "y = C(b)\n",
    "my_print(y)"
   ]
  },
  {
   "cell_type": "markdown",
   "metadata": {},
   "source": [
    "## Magic method & Decorator\n",
    "\n",
    "call, init과 같은 유용한 magic method 및 데코레이터 조사"
   ]
  },
  {
   "cell_type": "markdown",
   "metadata": {},
   "source": [
    "### Construction and Initialization\n",
    "1. __new__\n",
    "2. __init__\n",
    "3. __del__"
   ]
  },
  {
   "cell_type": "code",
   "execution_count": 145,
   "metadata": {},
   "outputs": [],
   "source": [
    "class Myclass(object):\n",
    "    def __new__(cls, *args, **kwargs):\n",
    "        # This method is used for ... I don't know well when we can use  and why we should use...\n",
    "        # The point is this method is called before init method\n",
    "        print(\"__new__ method called\")\n",
    "        inst = super().__new__(cls)\n",
    "        return inst\n",
    "    \n",
    "    def __init__(self, name):\n",
    "        print(\"__init__ method called\")\n",
    "        self.name = name\n",
    "\n",
    "    def __del__(self):\n",
    "        # This method is called, when you use \"del ~~\"\n",
    "        print(\"__del__ method called\")"
   ]
  },
  {
   "cell_type": "code",
   "execution_count": 146,
   "metadata": {},
   "outputs": [
    {
     "name": "stdout",
     "output_type": "stream",
     "text": [
      "__new__ method called\n",
      "__init__ method called\n",
      "name: EunNam\n",
      "__del__ method called\n",
      "There is no myclass: name 'myclass' is not defined\n"
     ]
    }
   ],
   "source": [
    "myclass = Myclass(\"EunNam\")\n",
    "\n",
    "print(f\"name: {myclass.name}\")\n",
    "del myclass\n",
    "\n",
    "try:\n",
    "    print(myclass.name)\n",
    "except Exception as e:\n",
    "    print(f\"There is no myclass: {e}\")"
   ]
  },
  {
   "cell_type": "markdown",
   "metadata": {},
   "source": [
    "### Representing\n",
    "\n",
    "1. __repr__\n",
    "2. __str__\n",
    "3. __hash__"
   ]
  },
  {
   "cell_type": "code",
   "execution_count": 147,
   "metadata": {},
   "outputs": [],
   "source": [
    "class Myclass(object):    \n",
    "    def __init__(self, name):\n",
    "        self.name = name\n",
    "\n",
    "    def __repr__(self):\n",
    "        # It provides informations for re-generating class instance\n",
    "        return f\"Myclass('{self.name}')\"\n",
    "\n",
    "    def __str__(self):\n",
    "        # print(instance)\n",
    "        return f\"Myclass named {self.name}\"\n",
    "    \n",
    "    def __hash__(self):\n",
    "        \"\"\"\n",
    "        The hash function is responsible for converting the input into a shorter, constant-length output. \n",
    "        At this time, it is basic to design the output to be different when the input is different. \n",
    "        It is mainly used to check the identity of two objects.\n",
    "        \"\"\"\n",
    "        return hash((self.name))\n",
    "    \n",
    "    def __eq__(self, other):\n",
    "        # obj1 == obj2 behavior\n",
    "        return self.__hash__() == other.__hash__()"
   ]
  },
  {
   "cell_type": "code",
   "execution_count": 148,
   "metadata": {},
   "outputs": [
    {
     "name": "stdout",
     "output_type": "stream",
     "text": [
      "Myclass named EunNam\n",
      "differnt\n"
     ]
    }
   ],
   "source": [
    "myclass1 = Myclass(\"EunNam\")\n",
    "myclass2 = Myclass(\"Cho\")\n",
    "\n",
    "print(myclass1)\n",
    "\n",
    "if myclass1 == myclass2:\n",
    "    print(\"Same\")\n",
    "else:\n",
    "    print(\"differnt\")"
   ]
  },
  {
   "cell_type": "code",
   "execution_count": 149,
   "metadata": {},
   "outputs": [
    {
     "data": {
      "text/plain": [
       "Myclass('EunNam')"
      ]
     },
     "execution_count": 149,
     "metadata": {},
     "output_type": "execute_result"
    }
   ],
   "source": [
    "myclass1"
   ]
  },
  {
   "cell_type": "markdown",
   "metadata": {},
   "source": [
    "### Accessing Attribute\n",
    "\n",
    "I think these methods is not used well.  \n",
    "However, when we must keep class security, Must use these.  \n",
    "It seems relevant to **_\"Encapsulation\"_**\n",
    "  \n",
    "#### **_So... Skip..._**\n",
    "  \n",
    "1. __getattr__\n",
    "2. __getattribution__\n",
    "3. __setattr__\n",
    "4. __delattr__   \n",
    "\n",
    "========================\n",
    "\n",
    "1. __setitem__\n",
    "2. __getitem__\n",
    "3. __delitem__\n",
    "4. __contains__"
   ]
  },
  {
   "cell_type": "markdown",
   "metadata": {},
   "source": [
    "### Sequencing\n",
    " \n",
    "1. __len__\n",
    "2. __getitem__\n",
    "3. __iter__\n",
    "4. __next__"
   ]
  },
  {
   "cell_type": "code",
   "execution_count": 150,
   "metadata": {},
   "outputs": [],
   "source": [
    "class MyContainer:\n",
    "    def __init__(self, data):\n",
    "        self.data = data\n",
    "        self.index = 0\n",
    "\n",
    "    def __iter__(self):\n",
    "        # I don't know what this method excatly do.\n",
    "        return self\n",
    "    \n",
    "    def __next__(self):\n",
    "        # It makes this class iterate through For statement\n",
    "        if self.index >= len(self.data):\n",
    "            raise StopIteration\n",
    "        result = self.data[self.index]\n",
    "        self.index += 1\n",
    "        return result\n",
    "\n",
    "    def __len__(self):\n",
    "        return len(self.data)\n",
    "\n",
    "    def __getitem__(self, index):\n",
    "        return self.data[index]"
   ]
  },
  {
   "cell_type": "code",
   "execution_count": 151,
   "metadata": {},
   "outputs": [
    {
     "name": "stdout",
     "output_type": "stream",
     "text": [
      "1\n",
      "2\n",
      "3\n",
      "4\n",
      "5\n",
      "5\n",
      "3\n"
     ]
    }
   ],
   "source": [
    "container = MyContainer([1, 2, 3, 4, 5])\n",
    "\n",
    "for item in container:\n",
    "    print(item)\n",
    "\n",
    "print(len(container)) \n",
    "\n",
    "print(container[2])  "
   ]
  },
  {
   "cell_type": "markdown",
   "metadata": {},
   "source": [
    "## Decorator\n",
    "\n",
    "함수나 클래스의 기능을 확장하거나 수정하는데 사용됨  \n",
    "재사용률, 가독성, 간결성 향상가능  \n",
    "  \n",
    "하지만, Decorator를 이해하려면, **_클로저_** 를 알고 있어야 함"
   ]
  },
  {
   "cell_type": "markdown",
   "metadata": {},
   "source": [
    "### Closure"
   ]
  },
  {
   "cell_type": "code",
   "execution_count": null,
   "metadata": {},
   "outputs": [],
   "source": []
  },
  {
   "cell_type": "code",
   "execution_count": 4,
   "metadata": {},
   "outputs": [
    {
     "name": "stdout",
     "output_type": "stream",
     "text": [
      "Something is happening before the function is called.\n",
      "Hello!\n",
      "Something is happening after the function is called.\n"
     ]
    }
   ],
   "source": [
    "# Example in func\n",
    "\n",
    "def my_decorator(func):\n",
    "    print(f\"Something is happening before the function is called.\")\n",
    "    func()\n",
    "    print(f\"Something is happening after the function is called.\")\n",
    "\n",
    "def say_hello():\n",
    "    print(f\"Hello!\")\n",
    "\n",
    "my_decorator(say_hello)"
   ]
  },
  {
   "cell_type": "code",
   "execution_count": 1,
   "metadata": {},
   "outputs": [
    {
     "name": "stdout",
     "output_type": "stream",
     "text": [
      "Something is happening before the function is called.\n",
      "Hello!\n",
      "Something is happening after the function is called.\n"
     ]
    }
   ],
   "source": [
    "# Example in func\n",
    "\n",
    "def my_decorator(func):\n",
    "    def wrapper():\n",
    "        print(f\"Something is happening before the function is called.\")\n",
    "        func()\n",
    "        print(f\"Something is happening after the function is called.\")\n",
    "    return wrapper\n",
    "\n",
    "@my_decorator\n",
    "def say_hello():\n",
    "    print(f\"Hello!\")\n",
    "\n",
    "say_hello()"
   ]
  },
  {
   "cell_type": "code",
   "execution_count": 2,
   "metadata": {},
   "outputs": [
    {
     "name": "stdout",
     "output_type": "stream",
     "text": [
      "John Doe\n"
     ]
    }
   ],
   "source": [
    "def add_property(cls):\n",
    "    class DecoratorClass(cls):\n",
    "        @property\n",
    "        def full_name(self):\n",
    "            return f\"{self.first_name} {self.last_name}\"\n",
    "    return DecoratorClass\n",
    "\n",
    "@add_property\n",
    "class Person:\n",
    "    def __init__(self, first_name, last_name):\n",
    "        self.first_name = first_name\n",
    "        self.last_name = last_name\n",
    "\n",
    "person = Person(\"John\", \"Doe\")\n",
    "\n",
    "print(person.full_name)"
   ]
  },
  {
   "cell_type": "markdown",
   "metadata": {},
   "source": [
    "# Numeric diffential\n",
    "  \n",
    "역전파의 장점을 부각시키기 위해 미분을 간단히 구현  \n",
    "\n",
    "컴퓨터로 $\\lim\\limits_{n\\to\\infty}$ 보낼 수 없으니, **_수치미분_** 으로 미분  \n",
    "수치 미분은 $\\lim\\limits_{h\\to0}\\frac{f(x+h) - f(x)}{h}$ 대신, **_아주 작은 값_** $\\epsilon$을 대입\n",
    "  \n",
    "아주 작은 값으로 **_근사_** 하는 것이라, 오차가 발생  \n",
    "  \n",
    "이를 **_전진차분_**(forward differentail) $\\frac{f(x+\\epsilon) - f(x)}{\\epsilon}$ 이 아닌,   \n",
    "**_중앙차분_**(centered differential) 으로 줄임 $\\frac{f(x+\\epsilon) - f(x-\\epsilon)}{2\\epsilon}$ "
   ]
  },
  {
   "cell_type": "code",
   "execution_count": 152,
   "metadata": {},
   "outputs": [],
   "source": [
    "def numerical_diff(f, x, eps=1e-4):\n",
    "    # centered differential\n",
    "    x1 = Variable(x.data - eps)\n",
    "    x2 = Variable(x.data + eps)\n",
    "\n",
    "    y1 = f(x1)\n",
    "    y2 = f(x2)\n",
    "\n",
    "    return (y2.data - y1.data) / (2 * eps)"
   ]
  },
  {
   "cell_type": "code",
   "execution_count": 153,
   "metadata": {},
   "outputs": [
    {
     "name": "stdout",
     "output_type": "stream",
     "text": [
      "The type : <class 'numpy.float64'>\n",
      "The data : 4.000000000004\n"
     ]
    }
   ],
   "source": [
    "f = Square()\n",
    "x = Variable(np.array(2.0))\n",
    "dy = numerical_diff(f, x)\n",
    "\n",
    "my_print(dy)"
   ]
  },
  {
   "cell_type": "code",
   "execution_count": 154,
   "metadata": {},
   "outputs": [
    {
     "name": "stdout",
     "output_type": "stream",
     "text": [
      "The type : <class 'numpy.float64'>\n",
      "The data : 3.2974426293330694\n"
     ]
    }
   ],
   "source": [
    "def f(x):\n",
    "    A = Square()\n",
    "    B = Exp()\n",
    "    C = Square()\n",
    "    return C(B(A(x)))\n",
    "\n",
    "x = Variable(np.array(0.5))\n",
    "dy = numerical_diff(f,x)\n",
    "\n",
    "my_print(dy)"
   ]
  }
 ],
 "metadata": {
  "kernelspec": {
   "display_name": "cuda12.2",
   "language": "python",
   "name": "python3"
  },
  "language_info": {
   "codemirror_mode": {
    "name": "ipython",
    "version": 3
   },
   "file_extension": ".py",
   "mimetype": "text/x-python",
   "name": "python",
   "nbconvert_exporter": "python",
   "pygments_lexer": "ipython3",
   "version": "3.11.7"
  }
 },
 "nbformat": 4,
 "nbformat_minor": 2
}
