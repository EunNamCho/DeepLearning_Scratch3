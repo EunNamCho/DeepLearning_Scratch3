{
 "cells": [
  {
   "cell_type": "markdown",
   "metadata": {},
   "source": [
    "이번 주에는 총 3가지를 배운다.  \n",
    "\n",
    "1. Variable\n",
    "2. Funtion\n",
    "3. Backpropagation"
   ]
  },
  {
   "cell_type": "markdown",
   "metadata": {},
   "source": [
    "# Variable\n",
    "\n",
    "이번 강의를 이어나갈 때, 모든 변수(데이터)를 저장하는 형태인듯"
   ]
  },
  {
   "cell_type": "code",
   "execution_count": 1,
   "metadata": {},
   "outputs": [],
   "source": [
    "import numpy as np"
   ]
  },
  {
   "cell_type": "code",
   "execution_count": 2,
   "metadata": {},
   "outputs": [],
   "source": [
    "def my_print(x):\n",
    "    print(f\"The type : {type(x)}\")\n",
    "    if isinstance(x,Variable):\n",
    "        print(f\"The data : {x.data}\")\n",
    "    else:\n",
    "        print(f\"The data : {x}\")"
   ]
  },
  {
   "cell_type": "code",
   "execution_count": 3,
   "metadata": {},
   "outputs": [],
   "source": [
    "class Variable(object):\n",
    "    def __init__(self, x):\n",
    "        self.data = x"
   ]
  },
  {
   "cell_type": "code",
   "execution_count": 4,
   "metadata": {},
   "outputs": [
    {
     "name": "stdout",
     "output_type": "stream",
     "text": [
      "The type : <class '__main__.Variable'>\n",
      "The data : 3.0\n"
     ]
    }
   ],
   "source": [
    "x = Variable(np.array(3.0))\n",
    "\n",
    "my_print(x)"
   ]
  },
  {
   "cell_type": "markdown",
   "metadata": {},
   "source": [
    "# Function\n",
    "\n",
    "가상화같은 느낌으로 이해하면 될 듯  \n",
    "  \n",
    "직접적으로 Function class를 사용하는 것이 아니라,  \n",
    "모든 함수는 Function을 항상 상속하여, 구현되도록 함"
   ]
  },
  {
   "cell_type": "code",
   "execution_count": 5,
   "metadata": {},
   "outputs": [],
   "source": [
    "class Function(object):\n",
    "    def __call__(self, input):\n",
    "        x = input.data\n",
    "        y = self.forward(x)\n",
    "        output = Variable(y)\n",
    "        return output\n",
    "    \n",
    "    def forward(self, x):\n",
    "        raise NotImplementedError() # raise와 assert차이 알아내기"
   ]
  },
  {
   "cell_type": "code",
   "execution_count": 6,
   "metadata": {},
   "outputs": [],
   "source": [
    "#f = Function()\n",
    "#output = f(x)"
   ]
  },
  {
   "cell_type": "code",
   "execution_count": 7,
   "metadata": {},
   "outputs": [],
   "source": [
    "class Square(Function):\n",
    "    def forward(self, x):\n",
    "        return  x ** 2\n",
    "    \n",
    "class Exp(Function):\n",
    "    def forward(self, x):\n",
    "        return np.exp(x)"
   ]
  },
  {
   "cell_type": "code",
   "execution_count": 8,
   "metadata": {},
   "outputs": [
    {
     "name": "stdout",
     "output_type": "stream",
     "text": [
      "The type : <class '__main__.Variable'>\n",
      "The data : 100.0\n"
     ]
    }
   ],
   "source": [
    "x = Variable(np.array(10.))\n",
    "f = Square()\n",
    "y = f(x)\n",
    "\n",
    "my_print(y)"
   ]
  },
  {
   "cell_type": "code",
   "execution_count": 9,
   "metadata": {},
   "outputs": [
    {
     "name": "stdout",
     "output_type": "stream",
     "text": [
      "The type : <class '__main__.Variable'>\n",
      "The data : 1.648721270700128\n"
     ]
    }
   ],
   "source": [
    "A = Square()\n",
    "B = Exp()\n",
    "C = Square()\n",
    "\n",
    "x = Variable(np.array(0.5))\n",
    "a = A(x)\n",
    "b = B(a)\n",
    "y = C(b)\n",
    "my_print(y)"
   ]
  },
  {
   "cell_type": "markdown",
   "metadata": {},
   "source": [
    "## Magic method\n",
    "\n",
    "call, init과 같은 유용한 magic method 및 데코레이터 조사"
   ]
  },
  {
   "cell_type": "markdown",
   "metadata": {},
   "source": [
    "### 생성, 소멸 관리 \n",
    "1. __new__\n",
    "2. __init__\n",
    "3. __del__"
   ]
  },
  {
   "cell_type": "code",
   "execution_count": 33,
   "metadata": {},
   "outputs": [],
   "source": [
    "class Test(object):\n",
    "    def __new__(cls,data):\n",
    "        print(\"__new__ magic method called\")\n",
    "        inst = object.__new__(cls)\n",
    "        return inst\n",
    "    \n",
    "    def __init__(self, data=10):\n",
    "        print(\"__init__ magic method called\")\n",
    "        self.data = data"
   ]
  },
  {
   "cell_type": "code",
   "execution_count": 34,
   "metadata": {},
   "outputs": [
    {
     "name": "stdout",
     "output_type": "stream",
     "text": [
      "__new__ magic method called\n",
      "__init__ magic method called\n",
      "10\n"
     ]
    }
   ],
   "source": [
    "t = Test(10)\n",
    "\n",
    "print(t.data)"
   ]
  },
  {
   "cell_type": "markdown",
   "metadata": {},
   "source": [
    "# Backpropagation\n",
    "  \n",
    "역전파는 다음 시간부터.  \n",
    "  \n",
    "엄밀히 말하면, 역전파의 장점을 부각시키기 위해 미분을 간단히 구현  \n",
    "컴퓨터로 lim 보낼 수 없으니, **_수치미분_** 으로 미분\n",
    "  \n",
    "수치 미분은 lim 대신, **_아주 작은 값_**을 대입하는 것  "
   ]
  },
  {
   "cell_type": "code",
   "execution_count": 11,
   "metadata": {},
   "outputs": [],
   "source": [
    "def numerical_diff(f, x, eps=1e-4):\n",
    "    x1 = Variable(x.data - eps)\n",
    "    x2 = Variable(x.data + eps)\n",
    "\n",
    "    y1 = f(x1)\n",
    "    y2 = f(x2)\n",
    "\n",
    "    return (y2.data - y1.data) / (2 * eps)"
   ]
  },
  {
   "cell_type": "code",
   "execution_count": 12,
   "metadata": {},
   "outputs": [
    {
     "name": "stdout",
     "output_type": "stream",
     "text": [
      "The type : <class 'numpy.float64'>\n",
      "The data : 4.000000000004\n"
     ]
    }
   ],
   "source": [
    "f = Square()\n",
    "x = Variable(np.array(2.0))\n",
    "dy = numerical_diff(f, x)\n",
    "\n",
    "my_print(dy)"
   ]
  },
  {
   "cell_type": "code",
   "execution_count": 13,
   "metadata": {},
   "outputs": [
    {
     "name": "stdout",
     "output_type": "stream",
     "text": [
      "The type : <class 'numpy.float64'>\n",
      "The data : 3.2974426293330694\n"
     ]
    }
   ],
   "source": [
    "def f(x):\n",
    "    A = Square()\n",
    "    B = Exp()\n",
    "    C = Square()\n",
    "    return C(B(A(x)))\n",
    "\n",
    "x = Variable(np.array(0.5))\n",
    "dy = numerical_diff(f,x)\n",
    "\n",
    "my_print(dy)"
   ]
  },
  {
   "cell_type": "code",
   "execution_count": null,
   "metadata": {},
   "outputs": [],
   "source": []
  }
 ],
 "metadata": {
  "kernelspec": {
   "display_name": "cuda12.2",
   "language": "python",
   "name": "python3"
  },
  "language_info": {
   "codemirror_mode": {
    "name": "ipython",
    "version": 3
   },
   "file_extension": ".py",
   "mimetype": "text/x-python",
   "name": "python",
   "nbconvert_exporter": "python",
   "pygments_lexer": "ipython3",
   "version": "3.11.7"
  }
 },
 "nbformat": 4,
 "nbformat_minor": 2
}
